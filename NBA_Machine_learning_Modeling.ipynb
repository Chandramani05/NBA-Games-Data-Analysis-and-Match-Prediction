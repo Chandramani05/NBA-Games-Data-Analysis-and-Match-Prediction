{
  "nbformat": 4,
  "nbformat_minor": 0,
  "metadata": {
    "colab": {
      "provenance": [],
      "mount_file_id": "1Ff-9AE5uLNVAXM-Pnrzqo-8hA5rbstQn",
      "authorship_tag": "ABX9TyMzremtbev1l+uJTmQZcZIb",
      "include_colab_link": true
    },
    "kernelspec": {
      "name": "python3",
      "display_name": "Python 3"
    },
    "language_info": {
      "name": "python"
    },
    "accelerator": "GPU",
    "gpuClass": "standard"
  },
  "cells": [
    {
      "cell_type": "markdown",
      "metadata": {
        "id": "view-in-github",
        "colab_type": "text"
      },
      "source": [
        "<a href=\"https://colab.research.google.com/github/Chandramani05/NBA-Games-Data-Analysis-and-Match-Prediction/blob/main/NBA_Machine_learning_Modeling.ipynb\" target=\"_parent\"><img src=\"https://colab.research.google.com/assets/colab-badge.svg\" alt=\"Open In Colab\"/></a>"
      ]
    },
    {
      "cell_type": "code",
      "execution_count": 2,
      "metadata": {
        "id": "FqIjVnqAb8rh"
      },
      "outputs": [],
      "source": [
        "import pandas as pd\n",
        "import numpy as np\n",
        "import seaborn as sns\n",
        "import matplotlib.pyplot as plt\n"
      ]
    },
    {
      "cell_type": "code",
      "source": [
        "import torch\n",
        "torch.cuda.is_available()"
      ],
      "metadata": {
        "colab": {
          "base_uri": "https://localhost:8080/"
        },
        "id": "Zp8AG4MNcxyD",
        "outputId": "62123451-ddb4-445a-c22d-b780dda644d7"
      },
      "execution_count": 3,
      "outputs": [
        {
          "output_type": "execute_result",
          "data": {
            "text/plain": [
              "False"
            ]
          },
          "metadata": {},
          "execution_count": 3
        }
      ]
    },
    {
      "cell_type": "code",
      "source": [
        "from sklearn.model_selection import train_test_split\n",
        "from sklearn.model_selection import cross_val_score\n",
        "from sklearn.model_selection import GridSearchCV\n",
        "\n",
        "from sklearn.linear_model import LogisticRegression\n",
        "from sklearn.naive_bayes import GaussianNB\n",
        "from sklearn.neighbors import KNeighborsClassifier\n",
        "from sklearn.ensemble import RandomForestClassifier\n",
        "from xgboost import XGBClassifier\n",
        "from sklearn.pipeline import Pipeline\n",
        "\n",
        "from sklearn.metrics import accuracy_score\n",
        "from sklearn.metrics import precision_score\n",
        "from sklearn.metrics import recall_score\n",
        "from sklearn.metrics import confusion_matrix\n",
        "from sklearn.metrics import plot_confusion_matrix\n",
        "\n",
        "import matplotlib.pyplot as plt"
      ],
      "metadata": {
        "id": "cQEvdViAcDpv"
      },
      "execution_count": 4,
      "outputs": []
    },
    {
      "cell_type": "code",
      "source": [
        "def npv_score(y_test, y_pred):\n",
        "    true_negatives = np.unique(np.array(list(zip(y_test.values, y_pred))).sum(axis=1), return_counts=True)[1][0]\n",
        "    predicted_negatives = np.unique(y_pred, return_counts=True)[1][0]\n",
        "    npv = true_negatives / predicted_negatives\n",
        "    return npv"
      ],
      "metadata": {
        "id": "17JI8klscF18"
      },
      "execution_count": 5,
      "outputs": []
    },
    {
      "cell_type": "code",
      "source": [
        "df = pd.read_csv(\"/content/drive/MyDrive/Machine Learning NBA /Final Data/games_with_features.csv\", index_col=\"id\")"
      ],
      "metadata": {
        "id": "bFDPmWzJcIG5"
      },
      "execution_count": 6,
      "outputs": []
    },
    {
      "cell_type": "code",
      "source": [
        "lr = LogisticRegression(max_iter=1000)\n",
        "nb = GaussianNB()\n",
        "knn = KNeighborsClassifier()\n",
        "rf = RandomForestClassifier()\n",
        "xgb = XGBClassifier(eval_metric=\"logloss\", use_label_encoder=False)\n",
        "\n",
        "models = [lr, nb, knn, rf, xgb]"
      ],
      "metadata": {
        "id": "ngNJTILmcsc4"
      },
      "execution_count": 7,
      "outputs": []
    },
    {
      "cell_type": "code",
      "source": [
        "def train_model(model, train_data, test_data):\n",
        "    X_train = train_data.drop(\"winner\", axis=1)\n",
        "    y_train = train_data[\"winner\"]\n",
        "    X_test = test_data.drop(\"winner\", axis=1)\n",
        "    y_test = test_data[\"winner\"]                     \n",
        "\n",
        "    model = model\n",
        "    model.fit(X_train, y_train)\n",
        "    y_pred = model.predict(X_test)\n",
        "\n",
        "    print(accuracy_score(y_test, y_pred))\n",
        "    #print(cross_val_score(model, feats, target).mean())"
      ],
      "metadata": {
        "id": "9o7MpPrrc_qm"
      },
      "execution_count": 8,
      "outputs": []
    },
    {
      "cell_type": "code",
      "source": [
        "train_data = df[df[\"season\"].isin([2017])][[\"home_team_avg_score\", \"visitor_team_avg_score\", \"winner\"]]\n",
        "test_data = df[df[\"season\"].isin([2018])][[\"home_team_avg_score\", \"visitor_team_avg_score\", \"winner\"]]\n",
        "for model in models:\n",
        "    train_model(model, train_data, test_data)"
      ],
      "metadata": {
        "colab": {
          "base_uri": "https://localhost:8080/"
        },
        "id": "KGvH4f3adHTI",
        "outputId": "fb9f51c3-5f83-4a1c-8574-9e2c624ff871"
      },
      "execution_count": 9,
      "outputs": [
        {
          "output_type": "stream",
          "name": "stdout",
          "text": [
            "0.6399694889397407\n",
            "0.6414950419527079\n",
            "0.5537757437070938\n",
            "0.5301296720061022\n",
            "0.6018306636155606\n"
          ]
        }
      ]
    },
    {
      "cell_type": "markdown",
      "source": [
        "xgboost and random forest predict around 80% correctly when using data from the same season.\n",
        "unfortunately when trying to predict results of future seasons the result is horrible."
      ],
      "metadata": {
        "id": "dXrJkjANdNZ-"
      }
    },
    {
      "cell_type": "markdown",
      "source": [
        "##Using Stats Data"
      ],
      "metadata": {
        "id": "sYHPa5RidQmP"
      }
    },
    {
      "cell_type": "code",
      "source": [
        "stats = pd.read_csv(\"/content/drive/MyDrive/Machine Learning NBA /Final Data/stats_feats.csv\",index_col=\"game.id\")\n",
        "stats"
      ],
      "metadata": {
        "colab": {
          "base_uri": "https://localhost:8080/",
          "height": 519
        },
        "id": "lY7ZQSRjdI84",
        "outputId": "64f02323-05da-4e91-dcdc-d16062819434"
      },
      "execution_count": 10,
      "outputs": [
        {
          "output_type": "execute_result",
          "data": {
            "text/plain": [
              "          game.date  game.season  winner  home_ast  home_blk  home_dreb  \\\n",
              "game.id                                                                   \n",
              "1        2018-10-16         2018       1     23.40      5.35      36.05   \n",
              "2        2018-10-16         2018       1     31.55      7.60      34.45   \n",
              "3        2018-10-17         2018       0     21.35      5.15      35.85   \n",
              "4        2018-10-17         2018       1     23.15      3.40      33.55   \n",
              "5        2018-10-17         2018       1     22.55      4.25      33.20   \n",
              "...             ...          ...     ...       ...       ...        ...   \n",
              "857658   2022-11-28         2022       0     25.85      4.40      32.05   \n",
              "857659   2022-11-28         2022       0     24.95      4.80      34.45   \n",
              "857660   2022-11-28         2022       0     22.90      6.00      33.20   \n",
              "857661   2022-11-28         2022       1     25.35      3.95      32.25   \n",
              "857662   2022-11-28         2022       1     29.55      3.05      34.65   \n",
              "\n",
              "         home_fg3_pct  home_fg3a  home_fg3m  home_fg_pct  ...  diff_away_fgm  \\\n",
              "game.id                                                   ...                  \n",
              "1            0.283508      32.10      11.60     0.407498  ...          -1.10   \n",
              "2            0.186014      27.60      11.35     0.511330  ...           2.00   \n",
              "3            0.211261      26.70       9.45     0.415333  ...           0.90   \n",
              "4            0.239457      28.45      11.50     0.431416  ...           1.50   \n",
              "5            0.291932      25.80      10.00     0.453450  ...           5.40   \n",
              "...               ...        ...        ...          ...  ...            ...   \n",
              "857658      20.284341      33.80      12.50    32.655897  ...          -2.90   \n",
              "857659      13.977462      39.25      14.65    28.952156  ...           0.20   \n",
              "857660      24.626431      33.05      10.85    42.398149  ...           1.50   \n",
              "857661      20.856653      32.15      10.60    42.469124  ...           3.95   \n",
              "857662      33.899859      37.75      14.35    45.480293  ...           3.30   \n",
              "\n",
              "         diff_away_ft_pct  diff_away_fta  diff_away_ftm  diff_away_oreb  \\\n",
              "game.id                                                                   \n",
              "1               -0.084629          -2.80          -1.85           -2.30   \n",
              "2                0.031878          -2.45           0.15           -3.90   \n",
              "3                0.082519           3.55           2.55            0.25   \n",
              "4               -0.106143          -5.10          -4.75            0.15   \n",
              "5                0.003677          -0.10          -1.25           -0.20   \n",
              "...                   ...            ...            ...             ...   \n",
              "857658           0.107326           6.50           4.85           -2.55   \n",
              "857659         -10.664621           7.10           4.05            2.30   \n",
              "857660           2.393646          -1.20          -1.55           -1.85   \n",
              "857661           6.659708           1.55           2.35            1.15   \n",
              "857662          -0.078641          -4.10          -1.40           -1.75   \n",
              "\n",
              "         diff_away_pf  diff_away_pts  diff_away_reb  diff_away_stl  \\\n",
              "game.id                                                              \n",
              "1               -0.95          -3.30          -0.45          -0.95   \n",
              "2               -1.20           4.30          -2.25          -0.15   \n",
              "3               -4.50           5.20           4.10          -2.35   \n",
              "4               -2.80          -0.50          -1.75           0.60   \n",
              "5               -5.05          10.15           3.00           1.15   \n",
              "...               ...            ...            ...            ...   \n",
              "857658          -3.30           1.05          -2.90          -0.80   \n",
              "857659           1.70           7.35           3.10           0.35   \n",
              "857660          -0.80           0.15          -2.45           1.05   \n",
              "857661           1.45           8.35          -1.70           0.15   \n",
              "857662          -0.50           6.05           0.90          -0.85   \n",
              "\n",
              "         diff_away_turnover  \n",
              "game.id                      \n",
              "1                     -2.65  \n",
              "2                      3.15  \n",
              "3                     -2.95  \n",
              "4                     -3.30  \n",
              "5                     -1.50  \n",
              "...                     ...  \n",
              "857658                 0.60  \n",
              "857659                 1.40  \n",
              "857660                -1.80  \n",
              "857661                -0.35  \n",
              "857662                -3.55  \n",
              "\n",
              "[46673 rows x 57 columns]"
            ],
            "text/html": [
              "\n",
              "  <div id=\"df-23245b43-cb5b-4c9e-90a9-682f1a89b415\">\n",
              "    <div class=\"colab-df-container\">\n",
              "      <div>\n",
              "<style scoped>\n",
              "    .dataframe tbody tr th:only-of-type {\n",
              "        vertical-align: middle;\n",
              "    }\n",
              "\n",
              "    .dataframe tbody tr th {\n",
              "        vertical-align: top;\n",
              "    }\n",
              "\n",
              "    .dataframe thead th {\n",
              "        text-align: right;\n",
              "    }\n",
              "</style>\n",
              "<table border=\"1\" class=\"dataframe\">\n",
              "  <thead>\n",
              "    <tr style=\"text-align: right;\">\n",
              "      <th></th>\n",
              "      <th>game.date</th>\n",
              "      <th>game.season</th>\n",
              "      <th>winner</th>\n",
              "      <th>home_ast</th>\n",
              "      <th>home_blk</th>\n",
              "      <th>home_dreb</th>\n",
              "      <th>home_fg3_pct</th>\n",
              "      <th>home_fg3a</th>\n",
              "      <th>home_fg3m</th>\n",
              "      <th>home_fg_pct</th>\n",
              "      <th>...</th>\n",
              "      <th>diff_away_fgm</th>\n",
              "      <th>diff_away_ft_pct</th>\n",
              "      <th>diff_away_fta</th>\n",
              "      <th>diff_away_ftm</th>\n",
              "      <th>diff_away_oreb</th>\n",
              "      <th>diff_away_pf</th>\n",
              "      <th>diff_away_pts</th>\n",
              "      <th>diff_away_reb</th>\n",
              "      <th>diff_away_stl</th>\n",
              "      <th>diff_away_turnover</th>\n",
              "    </tr>\n",
              "    <tr>\n",
              "      <th>game.id</th>\n",
              "      <th></th>\n",
              "      <th></th>\n",
              "      <th></th>\n",
              "      <th></th>\n",
              "      <th></th>\n",
              "      <th></th>\n",
              "      <th></th>\n",
              "      <th></th>\n",
              "      <th></th>\n",
              "      <th></th>\n",
              "      <th></th>\n",
              "      <th></th>\n",
              "      <th></th>\n",
              "      <th></th>\n",
              "      <th></th>\n",
              "      <th></th>\n",
              "      <th></th>\n",
              "      <th></th>\n",
              "      <th></th>\n",
              "      <th></th>\n",
              "      <th></th>\n",
              "    </tr>\n",
              "  </thead>\n",
              "  <tbody>\n",
              "    <tr>\n",
              "      <th>1</th>\n",
              "      <td>2018-10-16</td>\n",
              "      <td>2018</td>\n",
              "      <td>1</td>\n",
              "      <td>23.40</td>\n",
              "      <td>5.35</td>\n",
              "      <td>36.05</td>\n",
              "      <td>0.283508</td>\n",
              "      <td>32.10</td>\n",
              "      <td>11.60</td>\n",
              "      <td>0.407498</td>\n",
              "      <td>...</td>\n",
              "      <td>-1.10</td>\n",
              "      <td>-0.084629</td>\n",
              "      <td>-2.80</td>\n",
              "      <td>-1.85</td>\n",
              "      <td>-2.30</td>\n",
              "      <td>-0.95</td>\n",
              "      <td>-3.30</td>\n",
              "      <td>-0.45</td>\n",
              "      <td>-0.95</td>\n",
              "      <td>-2.65</td>\n",
              "    </tr>\n",
              "    <tr>\n",
              "      <th>2</th>\n",
              "      <td>2018-10-16</td>\n",
              "      <td>2018</td>\n",
              "      <td>1</td>\n",
              "      <td>31.55</td>\n",
              "      <td>7.60</td>\n",
              "      <td>34.45</td>\n",
              "      <td>0.186014</td>\n",
              "      <td>27.60</td>\n",
              "      <td>11.35</td>\n",
              "      <td>0.511330</td>\n",
              "      <td>...</td>\n",
              "      <td>2.00</td>\n",
              "      <td>0.031878</td>\n",
              "      <td>-2.45</td>\n",
              "      <td>0.15</td>\n",
              "      <td>-3.90</td>\n",
              "      <td>-1.20</td>\n",
              "      <td>4.30</td>\n",
              "      <td>-2.25</td>\n",
              "      <td>-0.15</td>\n",
              "      <td>3.15</td>\n",
              "    </tr>\n",
              "    <tr>\n",
              "      <th>3</th>\n",
              "      <td>2018-10-17</td>\n",
              "      <td>2018</td>\n",
              "      <td>0</td>\n",
              "      <td>21.35</td>\n",
              "      <td>5.15</td>\n",
              "      <td>35.85</td>\n",
              "      <td>0.211261</td>\n",
              "      <td>26.70</td>\n",
              "      <td>9.45</td>\n",
              "      <td>0.415333</td>\n",
              "      <td>...</td>\n",
              "      <td>0.90</td>\n",
              "      <td>0.082519</td>\n",
              "      <td>3.55</td>\n",
              "      <td>2.55</td>\n",
              "      <td>0.25</td>\n",
              "      <td>-4.50</td>\n",
              "      <td>5.20</td>\n",
              "      <td>4.10</td>\n",
              "      <td>-2.35</td>\n",
              "      <td>-2.95</td>\n",
              "    </tr>\n",
              "    <tr>\n",
              "      <th>4</th>\n",
              "      <td>2018-10-17</td>\n",
              "      <td>2018</td>\n",
              "      <td>1</td>\n",
              "      <td>23.15</td>\n",
              "      <td>3.40</td>\n",
              "      <td>33.55</td>\n",
              "      <td>0.239457</td>\n",
              "      <td>28.45</td>\n",
              "      <td>11.50</td>\n",
              "      <td>0.431416</td>\n",
              "      <td>...</td>\n",
              "      <td>1.50</td>\n",
              "      <td>-0.106143</td>\n",
              "      <td>-5.10</td>\n",
              "      <td>-4.75</td>\n",
              "      <td>0.15</td>\n",
              "      <td>-2.80</td>\n",
              "      <td>-0.50</td>\n",
              "      <td>-1.75</td>\n",
              "      <td>0.60</td>\n",
              "      <td>-3.30</td>\n",
              "    </tr>\n",
              "    <tr>\n",
              "      <th>5</th>\n",
              "      <td>2018-10-17</td>\n",
              "      <td>2018</td>\n",
              "      <td>1</td>\n",
              "      <td>22.55</td>\n",
              "      <td>4.25</td>\n",
              "      <td>33.20</td>\n",
              "      <td>0.291932</td>\n",
              "      <td>25.80</td>\n",
              "      <td>10.00</td>\n",
              "      <td>0.453450</td>\n",
              "      <td>...</td>\n",
              "      <td>5.40</td>\n",
              "      <td>0.003677</td>\n",
              "      <td>-0.10</td>\n",
              "      <td>-1.25</td>\n",
              "      <td>-0.20</td>\n",
              "      <td>-5.05</td>\n",
              "      <td>10.15</td>\n",
              "      <td>3.00</td>\n",
              "      <td>1.15</td>\n",
              "      <td>-1.50</td>\n",
              "    </tr>\n",
              "    <tr>\n",
              "      <th>...</th>\n",
              "      <td>...</td>\n",
              "      <td>...</td>\n",
              "      <td>...</td>\n",
              "      <td>...</td>\n",
              "      <td>...</td>\n",
              "      <td>...</td>\n",
              "      <td>...</td>\n",
              "      <td>...</td>\n",
              "      <td>...</td>\n",
              "      <td>...</td>\n",
              "      <td>...</td>\n",
              "      <td>...</td>\n",
              "      <td>...</td>\n",
              "      <td>...</td>\n",
              "      <td>...</td>\n",
              "      <td>...</td>\n",
              "      <td>...</td>\n",
              "      <td>...</td>\n",
              "      <td>...</td>\n",
              "      <td>...</td>\n",
              "      <td>...</td>\n",
              "    </tr>\n",
              "    <tr>\n",
              "      <th>857658</th>\n",
              "      <td>2022-11-28</td>\n",
              "      <td>2022</td>\n",
              "      <td>0</td>\n",
              "      <td>25.85</td>\n",
              "      <td>4.40</td>\n",
              "      <td>32.05</td>\n",
              "      <td>20.284341</td>\n",
              "      <td>33.80</td>\n",
              "      <td>12.50</td>\n",
              "      <td>32.655897</td>\n",
              "      <td>...</td>\n",
              "      <td>-2.90</td>\n",
              "      <td>0.107326</td>\n",
              "      <td>6.50</td>\n",
              "      <td>4.85</td>\n",
              "      <td>-2.55</td>\n",
              "      <td>-3.30</td>\n",
              "      <td>1.05</td>\n",
              "      <td>-2.90</td>\n",
              "      <td>-0.80</td>\n",
              "      <td>0.60</td>\n",
              "    </tr>\n",
              "    <tr>\n",
              "      <th>857659</th>\n",
              "      <td>2022-11-28</td>\n",
              "      <td>2022</td>\n",
              "      <td>0</td>\n",
              "      <td>24.95</td>\n",
              "      <td>4.80</td>\n",
              "      <td>34.45</td>\n",
              "      <td>13.977462</td>\n",
              "      <td>39.25</td>\n",
              "      <td>14.65</td>\n",
              "      <td>28.952156</td>\n",
              "      <td>...</td>\n",
              "      <td>0.20</td>\n",
              "      <td>-10.664621</td>\n",
              "      <td>7.10</td>\n",
              "      <td>4.05</td>\n",
              "      <td>2.30</td>\n",
              "      <td>1.70</td>\n",
              "      <td>7.35</td>\n",
              "      <td>3.10</td>\n",
              "      <td>0.35</td>\n",
              "      <td>1.40</td>\n",
              "    </tr>\n",
              "    <tr>\n",
              "      <th>857660</th>\n",
              "      <td>2022-11-28</td>\n",
              "      <td>2022</td>\n",
              "      <td>0</td>\n",
              "      <td>22.90</td>\n",
              "      <td>6.00</td>\n",
              "      <td>33.20</td>\n",
              "      <td>24.626431</td>\n",
              "      <td>33.05</td>\n",
              "      <td>10.85</td>\n",
              "      <td>42.398149</td>\n",
              "      <td>...</td>\n",
              "      <td>1.50</td>\n",
              "      <td>2.393646</td>\n",
              "      <td>-1.20</td>\n",
              "      <td>-1.55</td>\n",
              "      <td>-1.85</td>\n",
              "      <td>-0.80</td>\n",
              "      <td>0.15</td>\n",
              "      <td>-2.45</td>\n",
              "      <td>1.05</td>\n",
              "      <td>-1.80</td>\n",
              "    </tr>\n",
              "    <tr>\n",
              "      <th>857661</th>\n",
              "      <td>2022-11-28</td>\n",
              "      <td>2022</td>\n",
              "      <td>1</td>\n",
              "      <td>25.35</td>\n",
              "      <td>3.95</td>\n",
              "      <td>32.25</td>\n",
              "      <td>20.856653</td>\n",
              "      <td>32.15</td>\n",
              "      <td>10.60</td>\n",
              "      <td>42.469124</td>\n",
              "      <td>...</td>\n",
              "      <td>3.95</td>\n",
              "      <td>6.659708</td>\n",
              "      <td>1.55</td>\n",
              "      <td>2.35</td>\n",
              "      <td>1.15</td>\n",
              "      <td>1.45</td>\n",
              "      <td>8.35</td>\n",
              "      <td>-1.70</td>\n",
              "      <td>0.15</td>\n",
              "      <td>-0.35</td>\n",
              "    </tr>\n",
              "    <tr>\n",
              "      <th>857662</th>\n",
              "      <td>2022-11-28</td>\n",
              "      <td>2022</td>\n",
              "      <td>1</td>\n",
              "      <td>29.55</td>\n",
              "      <td>3.05</td>\n",
              "      <td>34.65</td>\n",
              "      <td>33.899859</td>\n",
              "      <td>37.75</td>\n",
              "      <td>14.35</td>\n",
              "      <td>45.480293</td>\n",
              "      <td>...</td>\n",
              "      <td>3.30</td>\n",
              "      <td>-0.078641</td>\n",
              "      <td>-4.10</td>\n",
              "      <td>-1.40</td>\n",
              "      <td>-1.75</td>\n",
              "      <td>-0.50</td>\n",
              "      <td>6.05</td>\n",
              "      <td>0.90</td>\n",
              "      <td>-0.85</td>\n",
              "      <td>-3.55</td>\n",
              "    </tr>\n",
              "  </tbody>\n",
              "</table>\n",
              "<p>46673 rows × 57 columns</p>\n",
              "</div>\n",
              "      <button class=\"colab-df-convert\" onclick=\"convertToInteractive('df-23245b43-cb5b-4c9e-90a9-682f1a89b415')\"\n",
              "              title=\"Convert this dataframe to an interactive table.\"\n",
              "              style=\"display:none;\">\n",
              "        \n",
              "  <svg xmlns=\"http://www.w3.org/2000/svg\" height=\"24px\"viewBox=\"0 0 24 24\"\n",
              "       width=\"24px\">\n",
              "    <path d=\"M0 0h24v24H0V0z\" fill=\"none\"/>\n",
              "    <path d=\"M18.56 5.44l.94 2.06.94-2.06 2.06-.94-2.06-.94-.94-2.06-.94 2.06-2.06.94zm-11 1L8.5 8.5l.94-2.06 2.06-.94-2.06-.94L8.5 2.5l-.94 2.06-2.06.94zm10 10l.94 2.06.94-2.06 2.06-.94-2.06-.94-.94-2.06-.94 2.06-2.06.94z\"/><path d=\"M17.41 7.96l-1.37-1.37c-.4-.4-.92-.59-1.43-.59-.52 0-1.04.2-1.43.59L10.3 9.45l-7.72 7.72c-.78.78-.78 2.05 0 2.83L4 21.41c.39.39.9.59 1.41.59.51 0 1.02-.2 1.41-.59l7.78-7.78 2.81-2.81c.8-.78.8-2.07 0-2.86zM5.41 20L4 18.59l7.72-7.72 1.47 1.35L5.41 20z\"/>\n",
              "  </svg>\n",
              "      </button>\n",
              "      \n",
              "  <style>\n",
              "    .colab-df-container {\n",
              "      display:flex;\n",
              "      flex-wrap:wrap;\n",
              "      gap: 12px;\n",
              "    }\n",
              "\n",
              "    .colab-df-convert {\n",
              "      background-color: #E8F0FE;\n",
              "      border: none;\n",
              "      border-radius: 50%;\n",
              "      cursor: pointer;\n",
              "      display: none;\n",
              "      fill: #1967D2;\n",
              "      height: 32px;\n",
              "      padding: 0 0 0 0;\n",
              "      width: 32px;\n",
              "    }\n",
              "\n",
              "    .colab-df-convert:hover {\n",
              "      background-color: #E2EBFA;\n",
              "      box-shadow: 0px 1px 2px rgba(60, 64, 67, 0.3), 0px 1px 3px 1px rgba(60, 64, 67, 0.15);\n",
              "      fill: #174EA6;\n",
              "    }\n",
              "\n",
              "    [theme=dark] .colab-df-convert {\n",
              "      background-color: #3B4455;\n",
              "      fill: #D2E3FC;\n",
              "    }\n",
              "\n",
              "    [theme=dark] .colab-df-convert:hover {\n",
              "      background-color: #434B5C;\n",
              "      box-shadow: 0px 1px 3px 1px rgba(0, 0, 0, 0.15);\n",
              "      filter: drop-shadow(0px 1px 2px rgba(0, 0, 0, 0.3));\n",
              "      fill: #FFFFFF;\n",
              "    }\n",
              "  </style>\n",
              "\n",
              "      <script>\n",
              "        const buttonEl =\n",
              "          document.querySelector('#df-23245b43-cb5b-4c9e-90a9-682f1a89b415 button.colab-df-convert');\n",
              "        buttonEl.style.display =\n",
              "          google.colab.kernel.accessAllowed ? 'block' : 'none';\n",
              "\n",
              "        async function convertToInteractive(key) {\n",
              "          const element = document.querySelector('#df-23245b43-cb5b-4c9e-90a9-682f1a89b415');\n",
              "          const dataTable =\n",
              "            await google.colab.kernel.invokeFunction('convertToInteractive',\n",
              "                                                     [key], {});\n",
              "          if (!dataTable) return;\n",
              "\n",
              "          const docLinkHtml = 'Like what you see? Visit the ' +\n",
              "            '<a target=\"_blank\" href=https://colab.research.google.com/notebooks/data_table.ipynb>data table notebook</a>'\n",
              "            + ' to learn more about interactive tables.';\n",
              "          element.innerHTML = '';\n",
              "          dataTable['output_type'] = 'display_data';\n",
              "          await google.colab.output.renderOutput(dataTable, element);\n",
              "          const docLink = document.createElement('div');\n",
              "          docLink.innerHTML = docLinkHtml;\n",
              "          element.appendChild(docLink);\n",
              "        }\n",
              "      </script>\n",
              "    </div>\n",
              "  </div>\n",
              "  "
            ]
          },
          "metadata": {},
          "execution_count": 10
        }
      ]
    },
    {
      "cell_type": "code",
      "source": [
        "train = stats[stats[\"game.season\"].isin([2015,2016,2017,2018,2019,2020,2021])]\n",
        "test = stats[stats[\"game.season\"].eq(2022)]"
      ],
      "metadata": {
        "id": "rj9RRRF8dZ0i"
      },
      "execution_count": 11,
      "outputs": []
    },
    {
      "cell_type": "code",
      "source": [
        "X_train = train.drop([\"winner\", \"game.date\", \"game.season\"], axis=1)\n",
        "y_train = train[\"winner\"]\n",
        "X_test = test.drop([\"winner\", \"game.date\", \"game.season\"], axis=1)\n",
        "y_test = test[\"winner\"]"
      ],
      "metadata": {
        "id": "eJHJ4H4RdsR4"
      },
      "execution_count": 12,
      "outputs": []
    },
    {
      "cell_type": "code",
      "source": [
        "for model in models:\n",
        "    model = model\n",
        "    model.fit(X_train, y_train)\n",
        "    y_train_pred = model.predict(X_train)\n",
        "    y_pred = model.predict(X_test)\n",
        "    \n",
        "    print(model)\n",
        "    print(accuracy_score(y_train, y_train_pred))\n",
        "    print(accuracy_score(y_test, y_pred))\n",
        "    print(cross_val_score(model, X_test, y_test).mean())"
      ],
      "metadata": {
        "colab": {
          "base_uri": "https://localhost:8080/"
        },
        "id": "xcF8FfLKd5i-",
        "outputId": "a7021b82-eccb-4a26-9870-20293a365890"
      },
      "execution_count": 13,
      "outputs": [
        {
          "output_type": "stream",
          "name": "stdout",
          "text": [
            "LogisticRegression(max_iter=1000)\n",
            "0.6240945057394406\n",
            "0.6298701298701299\n",
            "0.6233209941829719\n",
            "GaussianNB()\n",
            "0.5854229354730859\n",
            "0.487012987012987\n",
            "0.47778952934955043\n",
            "KNeighborsClassifier()\n",
            "0.7218321631561351\n",
            "0.6071428571428571\n",
            "0.55193019566367\n",
            "RandomForestClassifier()\n",
            "1.0\n",
            "0.6006493506493507\n",
            "0.5682707562136435\n",
            "XGBClassifier(eval_metric='logloss', use_label_encoder=False)\n",
            "0.6895129833946283\n",
            "0.5876623376623377\n",
            "0.5585933368588047\n"
          ]
        }
      ]
    },
    {
      "cell_type": "markdown",
      "source": [
        "##Using All Stats in XGBoost wit GridSearchCV"
      ],
      "metadata": {
        "id": "wUN-INlgeWCA"
      }
    },
    {
      "cell_type": "code",
      "source": [
        "from sklearn.model_selection import train_test_split, GridSearchCV, RandomizedSearchCV\n",
        "from sklearn.preprocessing import StandardScaler, LabelBinarizer, LabelEncoder\n",
        "from sklearn.impute import SimpleImputer\n",
        "from sklearn.pipeline import Pipeline\n",
        "from sklearn.linear_model import LogisticRegression\n",
        "from sklearn.model_selection import cross_val_score\n",
        "from sklearn.metrics import confusion_matrix, average_precision_score, roc_auc_score, roc_curve, auc\n",
        "from sklearn.svm import SVC\n",
        "from sklearn.ensemble import RandomForestClassifier, ExtraTreesClassifier\n",
        "from xgboost import XGBClassifier"
      ],
      "metadata": {
        "id": "R7m9x5clenEF"
      },
      "execution_count": 14,
      "outputs": []
    },
    {
      "cell_type": "code",
      "source": [
        "# Now we will recode categorical features for further analysis\n",
        "\n",
        "# Let's write a function that accepts DataFrame as input, encode categorical features with numeric values and returns the updated DataFrame and the encoders themselves.\n",
        "\n",
        "def nef(init_df):\n",
        "    result = init_df.copy() # copy of our original table\n",
        "    encoders = {}\n",
        "    for column in result.columns:\n",
        "        if result.dtypes[column] == np.object: # if the column type is a string, then it is encoded\n",
        "            encoders[column] = LabelEncoder() # creating an encoder for the column\n",
        "            result[column] = encoders[column].fit_transform(result[column]) # apply the encoder to the column and overwrite the column\n",
        "    return result, encoders\n",
        "\n",
        "nba_encoded, encoders = nef(stats) # Now encoded data contains encoded categorical signs \n",
        "nba_encoded.head()"
      ],
      "metadata": {
        "colab": {
          "base_uri": "https://localhost:8080/",
          "height": 383
        },
        "id": "fhWgXfkOe1lH",
        "outputId": "243fe7d5-de2c-4ac6-8c44-2e34832f57cf"
      },
      "execution_count": 15,
      "outputs": [
        {
          "output_type": "stream",
          "name": "stderr",
          "text": [
            "/usr/local/lib/python3.7/dist-packages/ipykernel_launcher.py:9: DeprecationWarning: `np.object` is a deprecated alias for the builtin `object`. To silence this warning, use `object` by itself. Doing this will not modify any behavior and is safe. \n",
            "Deprecated in NumPy 1.20; for more details and guidance: https://numpy.org/devdocs/release/1.20.0-notes.html#deprecations\n",
            "  if __name__ == '__main__':\n"
          ]
        },
        {
          "output_type": "execute_result",
          "data": {
            "text/plain": [
              "         game.date  game.season  winner  home_ast  home_blk  home_dreb  \\\n",
              "game.id                                                                  \n",
              "1             7004         2018       1     23.40      5.35      36.05   \n",
              "2             7004         2018       1     31.55      7.60      34.45   \n",
              "3             7005         2018       0     21.35      5.15      35.85   \n",
              "4             7005         2018       1     23.15      3.40      33.55   \n",
              "5             7005         2018       1     22.55      4.25      33.20   \n",
              "\n",
              "         home_fg3_pct  home_fg3a  home_fg3m  home_fg_pct  ...  diff_away_fgm  \\\n",
              "game.id                                                   ...                  \n",
              "1            0.283508      32.10      11.60     0.407498  ...           -1.1   \n",
              "2            0.186014      27.60      11.35     0.511330  ...            2.0   \n",
              "3            0.211261      26.70       9.45     0.415333  ...            0.9   \n",
              "4            0.239457      28.45      11.50     0.431416  ...            1.5   \n",
              "5            0.291932      25.80      10.00     0.453450  ...            5.4   \n",
              "\n",
              "         diff_away_ft_pct  diff_away_fta  diff_away_ftm  diff_away_oreb  \\\n",
              "game.id                                                                   \n",
              "1               -0.084629          -2.80          -1.85           -2.30   \n",
              "2                0.031878          -2.45           0.15           -3.90   \n",
              "3                0.082519           3.55           2.55            0.25   \n",
              "4               -0.106143          -5.10          -4.75            0.15   \n",
              "5                0.003677          -0.10          -1.25           -0.20   \n",
              "\n",
              "         diff_away_pf  diff_away_pts  diff_away_reb  diff_away_stl  \\\n",
              "game.id                                                              \n",
              "1               -0.95          -3.30          -0.45          -0.95   \n",
              "2               -1.20           4.30          -2.25          -0.15   \n",
              "3               -4.50           5.20           4.10          -2.35   \n",
              "4               -2.80          -0.50          -1.75           0.60   \n",
              "5               -5.05          10.15           3.00           1.15   \n",
              "\n",
              "         diff_away_turnover  \n",
              "game.id                      \n",
              "1                     -2.65  \n",
              "2                      3.15  \n",
              "3                     -2.95  \n",
              "4                     -3.30  \n",
              "5                     -1.50  \n",
              "\n",
              "[5 rows x 57 columns]"
            ],
            "text/html": [
              "\n",
              "  <div id=\"df-2f9fdd90-c150-4332-a0e1-434678867200\">\n",
              "    <div class=\"colab-df-container\">\n",
              "      <div>\n",
              "<style scoped>\n",
              "    .dataframe tbody tr th:only-of-type {\n",
              "        vertical-align: middle;\n",
              "    }\n",
              "\n",
              "    .dataframe tbody tr th {\n",
              "        vertical-align: top;\n",
              "    }\n",
              "\n",
              "    .dataframe thead th {\n",
              "        text-align: right;\n",
              "    }\n",
              "</style>\n",
              "<table border=\"1\" class=\"dataframe\">\n",
              "  <thead>\n",
              "    <tr style=\"text-align: right;\">\n",
              "      <th></th>\n",
              "      <th>game.date</th>\n",
              "      <th>game.season</th>\n",
              "      <th>winner</th>\n",
              "      <th>home_ast</th>\n",
              "      <th>home_blk</th>\n",
              "      <th>home_dreb</th>\n",
              "      <th>home_fg3_pct</th>\n",
              "      <th>home_fg3a</th>\n",
              "      <th>home_fg3m</th>\n",
              "      <th>home_fg_pct</th>\n",
              "      <th>...</th>\n",
              "      <th>diff_away_fgm</th>\n",
              "      <th>diff_away_ft_pct</th>\n",
              "      <th>diff_away_fta</th>\n",
              "      <th>diff_away_ftm</th>\n",
              "      <th>diff_away_oreb</th>\n",
              "      <th>diff_away_pf</th>\n",
              "      <th>diff_away_pts</th>\n",
              "      <th>diff_away_reb</th>\n",
              "      <th>diff_away_stl</th>\n",
              "      <th>diff_away_turnover</th>\n",
              "    </tr>\n",
              "    <tr>\n",
              "      <th>game.id</th>\n",
              "      <th></th>\n",
              "      <th></th>\n",
              "      <th></th>\n",
              "      <th></th>\n",
              "      <th></th>\n",
              "      <th></th>\n",
              "      <th></th>\n",
              "      <th></th>\n",
              "      <th></th>\n",
              "      <th></th>\n",
              "      <th></th>\n",
              "      <th></th>\n",
              "      <th></th>\n",
              "      <th></th>\n",
              "      <th></th>\n",
              "      <th></th>\n",
              "      <th></th>\n",
              "      <th></th>\n",
              "      <th></th>\n",
              "      <th></th>\n",
              "      <th></th>\n",
              "    </tr>\n",
              "  </thead>\n",
              "  <tbody>\n",
              "    <tr>\n",
              "      <th>1</th>\n",
              "      <td>7004</td>\n",
              "      <td>2018</td>\n",
              "      <td>1</td>\n",
              "      <td>23.40</td>\n",
              "      <td>5.35</td>\n",
              "      <td>36.05</td>\n",
              "      <td>0.283508</td>\n",
              "      <td>32.10</td>\n",
              "      <td>11.60</td>\n",
              "      <td>0.407498</td>\n",
              "      <td>...</td>\n",
              "      <td>-1.1</td>\n",
              "      <td>-0.084629</td>\n",
              "      <td>-2.80</td>\n",
              "      <td>-1.85</td>\n",
              "      <td>-2.30</td>\n",
              "      <td>-0.95</td>\n",
              "      <td>-3.30</td>\n",
              "      <td>-0.45</td>\n",
              "      <td>-0.95</td>\n",
              "      <td>-2.65</td>\n",
              "    </tr>\n",
              "    <tr>\n",
              "      <th>2</th>\n",
              "      <td>7004</td>\n",
              "      <td>2018</td>\n",
              "      <td>1</td>\n",
              "      <td>31.55</td>\n",
              "      <td>7.60</td>\n",
              "      <td>34.45</td>\n",
              "      <td>0.186014</td>\n",
              "      <td>27.60</td>\n",
              "      <td>11.35</td>\n",
              "      <td>0.511330</td>\n",
              "      <td>...</td>\n",
              "      <td>2.0</td>\n",
              "      <td>0.031878</td>\n",
              "      <td>-2.45</td>\n",
              "      <td>0.15</td>\n",
              "      <td>-3.90</td>\n",
              "      <td>-1.20</td>\n",
              "      <td>4.30</td>\n",
              "      <td>-2.25</td>\n",
              "      <td>-0.15</td>\n",
              "      <td>3.15</td>\n",
              "    </tr>\n",
              "    <tr>\n",
              "      <th>3</th>\n",
              "      <td>7005</td>\n",
              "      <td>2018</td>\n",
              "      <td>0</td>\n",
              "      <td>21.35</td>\n",
              "      <td>5.15</td>\n",
              "      <td>35.85</td>\n",
              "      <td>0.211261</td>\n",
              "      <td>26.70</td>\n",
              "      <td>9.45</td>\n",
              "      <td>0.415333</td>\n",
              "      <td>...</td>\n",
              "      <td>0.9</td>\n",
              "      <td>0.082519</td>\n",
              "      <td>3.55</td>\n",
              "      <td>2.55</td>\n",
              "      <td>0.25</td>\n",
              "      <td>-4.50</td>\n",
              "      <td>5.20</td>\n",
              "      <td>4.10</td>\n",
              "      <td>-2.35</td>\n",
              "      <td>-2.95</td>\n",
              "    </tr>\n",
              "    <tr>\n",
              "      <th>4</th>\n",
              "      <td>7005</td>\n",
              "      <td>2018</td>\n",
              "      <td>1</td>\n",
              "      <td>23.15</td>\n",
              "      <td>3.40</td>\n",
              "      <td>33.55</td>\n",
              "      <td>0.239457</td>\n",
              "      <td>28.45</td>\n",
              "      <td>11.50</td>\n",
              "      <td>0.431416</td>\n",
              "      <td>...</td>\n",
              "      <td>1.5</td>\n",
              "      <td>-0.106143</td>\n",
              "      <td>-5.10</td>\n",
              "      <td>-4.75</td>\n",
              "      <td>0.15</td>\n",
              "      <td>-2.80</td>\n",
              "      <td>-0.50</td>\n",
              "      <td>-1.75</td>\n",
              "      <td>0.60</td>\n",
              "      <td>-3.30</td>\n",
              "    </tr>\n",
              "    <tr>\n",
              "      <th>5</th>\n",
              "      <td>7005</td>\n",
              "      <td>2018</td>\n",
              "      <td>1</td>\n",
              "      <td>22.55</td>\n",
              "      <td>4.25</td>\n",
              "      <td>33.20</td>\n",
              "      <td>0.291932</td>\n",
              "      <td>25.80</td>\n",
              "      <td>10.00</td>\n",
              "      <td>0.453450</td>\n",
              "      <td>...</td>\n",
              "      <td>5.4</td>\n",
              "      <td>0.003677</td>\n",
              "      <td>-0.10</td>\n",
              "      <td>-1.25</td>\n",
              "      <td>-0.20</td>\n",
              "      <td>-5.05</td>\n",
              "      <td>10.15</td>\n",
              "      <td>3.00</td>\n",
              "      <td>1.15</td>\n",
              "      <td>-1.50</td>\n",
              "    </tr>\n",
              "  </tbody>\n",
              "</table>\n",
              "<p>5 rows × 57 columns</p>\n",
              "</div>\n",
              "      <button class=\"colab-df-convert\" onclick=\"convertToInteractive('df-2f9fdd90-c150-4332-a0e1-434678867200')\"\n",
              "              title=\"Convert this dataframe to an interactive table.\"\n",
              "              style=\"display:none;\">\n",
              "        \n",
              "  <svg xmlns=\"http://www.w3.org/2000/svg\" height=\"24px\"viewBox=\"0 0 24 24\"\n",
              "       width=\"24px\">\n",
              "    <path d=\"M0 0h24v24H0V0z\" fill=\"none\"/>\n",
              "    <path d=\"M18.56 5.44l.94 2.06.94-2.06 2.06-.94-2.06-.94-.94-2.06-.94 2.06-2.06.94zm-11 1L8.5 8.5l.94-2.06 2.06-.94-2.06-.94L8.5 2.5l-.94 2.06-2.06.94zm10 10l.94 2.06.94-2.06 2.06-.94-2.06-.94-.94-2.06-.94 2.06-2.06.94z\"/><path d=\"M17.41 7.96l-1.37-1.37c-.4-.4-.92-.59-1.43-.59-.52 0-1.04.2-1.43.59L10.3 9.45l-7.72 7.72c-.78.78-.78 2.05 0 2.83L4 21.41c.39.39.9.59 1.41.59.51 0 1.02-.2 1.41-.59l7.78-7.78 2.81-2.81c.8-.78.8-2.07 0-2.86zM5.41 20L4 18.59l7.72-7.72 1.47 1.35L5.41 20z\"/>\n",
              "  </svg>\n",
              "      </button>\n",
              "      \n",
              "  <style>\n",
              "    .colab-df-container {\n",
              "      display:flex;\n",
              "      flex-wrap:wrap;\n",
              "      gap: 12px;\n",
              "    }\n",
              "\n",
              "    .colab-df-convert {\n",
              "      background-color: #E8F0FE;\n",
              "      border: none;\n",
              "      border-radius: 50%;\n",
              "      cursor: pointer;\n",
              "      display: none;\n",
              "      fill: #1967D2;\n",
              "      height: 32px;\n",
              "      padding: 0 0 0 0;\n",
              "      width: 32px;\n",
              "    }\n",
              "\n",
              "    .colab-df-convert:hover {\n",
              "      background-color: #E2EBFA;\n",
              "      box-shadow: 0px 1px 2px rgba(60, 64, 67, 0.3), 0px 1px 3px 1px rgba(60, 64, 67, 0.15);\n",
              "      fill: #174EA6;\n",
              "    }\n",
              "\n",
              "    [theme=dark] .colab-df-convert {\n",
              "      background-color: #3B4455;\n",
              "      fill: #D2E3FC;\n",
              "    }\n",
              "\n",
              "    [theme=dark] .colab-df-convert:hover {\n",
              "      background-color: #434B5C;\n",
              "      box-shadow: 0px 1px 3px 1px rgba(0, 0, 0, 0.15);\n",
              "      filter: drop-shadow(0px 1px 2px rgba(0, 0, 0, 0.3));\n",
              "      fill: #FFFFFF;\n",
              "    }\n",
              "  </style>\n",
              "\n",
              "      <script>\n",
              "        const buttonEl =\n",
              "          document.querySelector('#df-2f9fdd90-c150-4332-a0e1-434678867200 button.colab-df-convert');\n",
              "        buttonEl.style.display =\n",
              "          google.colab.kernel.accessAllowed ? 'block' : 'none';\n",
              "\n",
              "        async function convertToInteractive(key) {\n",
              "          const element = document.querySelector('#df-2f9fdd90-c150-4332-a0e1-434678867200');\n",
              "          const dataTable =\n",
              "            await google.colab.kernel.invokeFunction('convertToInteractive',\n",
              "                                                     [key], {});\n",
              "          if (!dataTable) return;\n",
              "\n",
              "          const docLinkHtml = 'Like what you see? Visit the ' +\n",
              "            '<a target=\"_blank\" href=https://colab.research.google.com/notebooks/data_table.ipynb>data table notebook</a>'\n",
              "            + ' to learn more about interactive tables.';\n",
              "          element.innerHTML = '';\n",
              "          dataTable['output_type'] = 'display_data';\n",
              "          await google.colab.output.renderOutput(dataTable, element);\n",
              "          const docLink = document.createElement('div');\n",
              "          docLink.innerHTML = docLinkHtml;\n",
              "          element.appendChild(docLink);\n",
              "        }\n",
              "      </script>\n",
              "    </div>\n",
              "  </div>\n",
              "  "
            ]
          },
          "metadata": {},
          "execution_count": 15
        }
      ]
    },
    {
      "cell_type": "code",
      "source": [
        "plt.subplots(figsize=(20,20))\n",
        "sns.heatmap(nba_encoded.corr(), square=True, cmap=\"RdBu_r\")\n",
        "plt.savefig(\"/content/drive/MyDrive/Exoplanet Detection/Figures/heatmap\")\n",
        "plt.show()\n",
        "\n"
      ],
      "metadata": {
        "colab": {
          "base_uri": "https://localhost:8080/",
          "height": 843
        },
        "id": "lbIOOzBreCCe",
        "outputId": "416f5664-55c4-4391-8a56-fdd1bbe73bde"
      },
      "execution_count": 16,
      "outputs": [
        {
          "output_type": "display_data",
          "data": {
            "text/plain": [
              "<Figure size 1440x1440 with 2 Axes>"
            ],
            "image/png": "[encoded data removed]"
          },
          "metadata": {
            "needs_background": "light"
          }
        }
      ]
    },
    {
      "cell_type": "markdown",
      "source": [
        "##Gaps in DataSet"
      ],
      "metadata": {
        "id": "Q8AIJ5xXfV4z"
      }
    },
    {
      "cell_type": "code",
      "source": [
        "fig, ax = plt.subplots(figsize=(14,8))\n",
        "sns.heatmap(nba_encoded.isnull(), cbar=False, cmap=\"YlGnBu_r\")\n",
        "plt.show()"
      ],
      "metadata": {
        "colab": {
          "base_uri": "https://localhost:8080/",
          "height": 573
        },
        "id": "U_U_h2ZZfVZN",
        "outputId": "423e091a-236a-451a-c45b-3109259ff6f5"
      },
      "execution_count": 17,
      "outputs": [
        {
          "output_type": "display_data",
          "data": {
            "text/plain": [
              "<Figure size 1008x576 with 1 Axes>"
            ],
            "image/png": "[encoded data removed]"
          },
          "metadata": {
            "needs_background": "light"
          }
        }
      ]
    },
    {
      "cell_type": "code",
      "source": [
        "from sklearn.model_selection import train_test_split"
      ],
      "metadata": {
        "id": "UKGWXU6zfbdJ"
      },
      "execution_count": 18,
      "outputs": []
    },
    {
      "cell_type": "code",
      "source": [
        "X = stats.drop([\"winner\", \"game.date\", \"game.season\"], axis=1)\n",
        "y = stats[\"winner\"]"
      ],
      "metadata": {
        "id": "QBNmDV60f2md"
      },
      "execution_count": 19,
      "outputs": []
    },
    {
      "cell_type": "code",
      "source": [
        "X_train, X_test, y_train, y_test = train_test_split(X, y, train_size=0.80)\n"
      ],
      "metadata": {
        "id": "P9uVFD6PfpJc"
      },
      "execution_count": 20,
      "outputs": []
    },
    {
      "cell_type": "code",
      "source": [
        "xgb = XGBClassifier(random_state=7)\n",
        "xgb_steps = [('scaler', StandardScaler()), ('XGB', xgb)]\n",
        "xgb_pipeline = Pipeline(xgb_steps)\n",
        "\n",
        "# paramater space to tune\n",
        "n_estimators = [int(x) for x in np.linspace(start = 200, stop = 2000, num = 10)]\n",
        "max_depth = [3, 4, 5, 6, 8, 10, 12, 15]\n",
        "learning_rate = [0.05, 0.10, 0.15, 0.20, 0.25, 0.30]\n",
        "min_child_weight = [1, 3, 5, 7]\n",
        "gamma = [0.0, 0.1, 0.2 , 0.3, 0.4]\n",
        "colsample_bytree = [0.3, 0.4, 0.5 , 0.7]\n",
        "\n",
        "xgb_param_grid = {'XGB__max_depth': max_depth, \n",
        "                  'XGB__learning_rate': learning_rate, \n",
        "                  'XGB__n_estimators': n_estimators, \n",
        "                  'XGB__gamma': gamma, \n",
        "                  'XGB__min_child_weight': min_child_weight, \n",
        "                  'XGB__colsample_bytree': colsample_bytree,\n",
        "}"
      ],
      "metadata": {
        "id": "cZ5Fwaqrf5AH"
      },
      "execution_count": 26,
      "outputs": []
    },
    {
      "cell_type": "code",
      "source": [
        "%%time\n",
        "# find best parameters and apply 5 fold cross validation with RandomizedSearchCV\n",
        "xgb_cv = RandomizedSearchCV(xgb_pipeline, xgb_param_grid, scoring='average_precision', cv=5, random_state=42)\n",
        "xgb_cv.fit(X_train, y_train)"
      ],
      "metadata": {
        "colab": {
          "base_uri": "https://localhost:8080/"
        },
        "id": "g-vMUey9gDzJ",
        "outputId": "399a43ff-3c9a-41b9-e01b-e95ee2dead20"
      },
      "execution_count": 27,
      "outputs": [
        {
          "output_type": "stream",
          "name": "stdout",
          "text": [
            "CPU times: user 44min 42s, sys: 4.67 s, total: 44min 47s\n",
            "Wall time: 44min 38s\n"
          ]
        },
        {
          "output_type": "execute_result",
          "data": {
            "text/plain": [
              "RandomizedSearchCV(cv=5,\n",
              "                   estimator=Pipeline(steps=[('scaler', StandardScaler()),\n",
              "                                             ('XGB',\n",
              "                                              XGBClassifier(random_state=7))]),\n",
              "                   param_distributions={'XGB__colsample_bytree': [0.3, 0.4, 0.5,\n",
              "                                                                  0.7],\n",
              "                                        'XGB__gamma': [0.0, 0.1, 0.2, 0.3, 0.4],\n",
              "                                        'XGB__learning_rate': [0.05, 0.1, 0.15,\n",
              "                                                               0.2, 0.25, 0.3],\n",
              "                                        'XGB__max_depth': [3, 4, 5, 6, 8, 10,\n",
              "                                                           12, 15],\n",
              "                                        'XGB__min_child_weight': [1, 3, 5, 7],\n",
              "                                        'XGB__n_estimators': [200, 400, 600,\n",
              "                                                              800, 1000, 1200,\n",
              "                                                              1400, 1600, 1800,\n",
              "                                                              2000]},\n",
              "                   random_state=42, scoring='average_precision')"
            ]
          },
          "metadata": {},
          "execution_count": 27
        }
      ]
    },
    {
      "cell_type": "code",
      "source": [
        "y_train_pred = xgb_cv.predict(X_train)\n",
        "y_pred = xgb_cv.predict(X_test)\n",
        "\n",
        "print(accuracy_score(y_train, y_train_pred))\n",
        "print(accuracy_score(y_test, y_pred))\n",
        "print(precision_score(y_test, y_pred))\n",
        "print(npv_score(y_test, y_pred))\n",
        "print(confusion_matrix(y_test, y_pred))"
      ],
      "metadata": {
        "colab": {
          "base_uri": "https://localhost:8080/"
        },
        "id": "prvzmUJGgHS0",
        "outputId": "45199ee0-1fba-40cd-9f22-e31c7eb2cadf"
      },
      "execution_count": 28,
      "outputs": [
        {
          "output_type": "stream",
          "name": "stdout",
          "text": [
            "0.7448443944506936\n",
            "0.6503481521156936\n",
            "0.67691647597254\n",
            "0.5710627400768246\n",
            "[[1338 2259]\n",
            " [1005 4733]]\n"
          ]
        }
      ]
    },
    {
      "cell_type": "code",
      "source": [
        "plt.figure(figsize=(16,6))\n",
        "plot_confusion_matrix(lr, X_test, y_test)\n",
        "plt.ylabel(\"True Outcome\",fontdict = {'weight' : 'bold'})\n",
        "plt.yticks(ticks=[0,1], labels=[\"Away Win\", \"Home Win\"])\n",
        "plt.xticks(ticks=[0,1], labels=[\"Away Win\", \"Home Win\"])\n",
        "plt.xlabel(\"Predicted Outcome\", fontdict = {'weight' : 'bold'})\n",
        "plt.savefig('/content/drive/MyDrive/Machine Learning NBA /Figures/Confusion Matrix')\n",
        "plt.show()"
      ],
      "metadata": {
        "colab": {
          "base_uri": "https://localhost:8080/",
          "height": 351
        },
        "id": "XzdzRJ-sKuW7",
        "outputId": "efee54a6-9163-4fc5-d43a-afd94da7a71d"
      },
      "execution_count": 32,
      "outputs": [
        {
          "output_type": "stream",
          "name": "stderr",
          "text": [
            "/usr/local/lib/python3.7/dist-packages/sklearn/utils/deprecation.py:87: FutureWarning: Function plot_confusion_matrix is deprecated; Function `plot_confusion_matrix` is deprecated in 1.0 and will be removed in 1.2. Use one of the class methods: ConfusionMatrixDisplay.from_predictions or ConfusionMatrixDisplay.from_estimator.\n",
            "  warnings.warn(msg, category=FutureWarning)\n"
          ]
        },
        {
          "output_type": "display_data",
          "data": {
            "text/plain": [
              "<Figure size 1152x432 with 0 Axes>"
            ]
          },
          "metadata": {}
        },
        {
          "output_type": "display_data",
          "data": {
            "text/plain": [
              "<Figure size 432x288 with 2 Axes>"
            ],
            "image/png": "[encoded data removed]"
          },
          "metadata": {
            "needs_background": "light"
          }
        }
      ]
    },
    {
      "cell_type": "code",
      "source": [
        "import pickle"
      ],
      "metadata": {
        "id": "10wIONsjKusx"
      },
      "execution_count": 33,
      "outputs": []
    },
    {
      "cell_type": "code",
      "source": [
        "NBA_results_predictor = xgb_cv.fit(X, y)\n",
        "\n",
        "pickle.dump(NBA_results_predictor, open(\"/content/drive/MyDrive/Machine Learning NBA /Models/model.sav\", \"wb\"))"
      ],
      "metadata": {
        "id": "dnH98AB7LRvI"
      },
      "execution_count": 34,
      "outputs": []
    }
  ]
}