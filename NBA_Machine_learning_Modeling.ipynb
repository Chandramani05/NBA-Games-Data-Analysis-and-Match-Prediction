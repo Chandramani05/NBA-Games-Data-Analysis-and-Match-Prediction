{
  "nbformat": 4,
  "nbformat_minor": 0,
  "metadata": {
    "colab": {
      "provenance": [],
      "mount_file_id": "1Ff-9AE5uLNVAXM-Pnrzqo-8hA5rbstQn",
      "authorship_tag": "ABX9TyMk5mNgEsCZeSXgLOkgEvO3",
      "include_colab_link": true
    },
    "kernelspec": {
      "name": "python3",
      "display_name": "Python 3"
    },
    "language_info": {
      "name": "python"
    },
    "gpuClass": "standard",
    "accelerator": "GPU"
  },
  "cells": [
    {
      "cell_type": "markdown",
      "metadata": {
        "id": "view-in-github",
        "colab_type": "text"
      },
      "source": [
        "<a href=\"https://colab.research.google.com/github/Chandramani05/NBA-Games-Data-Analysis-and-Match-Prediction/blob/main/NBA_Machine_learning_Modeling.ipynb\" target=\"_parent\"><img src=\"https://colab.research.google.com/assets/colab-badge.svg\" alt=\"Open In Colab\"/></a>"
      ]
    },
    {
      "cell_type": "code",
      "execution_count": 2,
      "metadata": {
        "id": "FqIjVnqAb8rh"
      },
      "outputs": [],
      "source": [
        "import pandas as pd\n",
        "import numpy as np\n",
        "import seaborn as sns\n",
        "import matplotlib.pyplot as plt\n"
      ]
    },
    {
      "cell_type": "code",
      "source": [
        "import torch\n",
        "torch.cuda.is_available()"
      ],
      "metadata": {
        "colab": {
          "base_uri": "https://localhost:8080/"
        },
        "id": "Zp8AG4MNcxyD",
        "outputId": "4ce38585-f4e8-4691-9378-4ed98440845c"
      },
      "execution_count": 3,
      "outputs": [
        {
          "output_type": "execute_result",
          "data": {
            "text/plain": [
              "False"
            ]
          },
          "metadata": {},
          "execution_count": 3
        }
      ]
    },
    {
      "cell_type": "code",
      "source": [
        "from sklearn.model_selection import train_test_split\n",
        "from sklearn.model_selection import cross_val_score\n",
        "from sklearn.model_selection import GridSearchCV\n",
        "\n",
        "from sklearn.linear_model import LogisticRegression\n",
        "from sklearn.naive_bayes import GaussianNB\n",
        "from sklearn.neighbors import KNeighborsClassifier\n",
        "from sklearn.ensemble import RandomForestClassifier\n",
        "from xgboost import XGBClassifier\n",
        "from sklearn.pipeline import Pipeline\n",
        "\n",
        "from sklearn.metrics import accuracy_score\n",
        "from sklearn.metrics import precision_score\n",
        "from sklearn.metrics import recall_score\n",
        "from sklearn.metrics import confusion_matrix\n",
        "from sklearn.metrics import plot_confusion_matrix\n",
        "\n",
        "import matplotlib.pyplot as plt"
      ],
      "metadata": {
        "id": "cQEvdViAcDpv"
      },
      "execution_count": 4,
      "outputs": []
    },
    {
      "cell_type": "code",
      "source": [
        "def npv_score(y_test, y_pred):\n",
        "    true_negatives = np.unique(np.array(list(zip(y_test.values, y_pred))).sum(axis=1), return_counts=True)[1][0]\n",
        "    predicted_negatives = np.unique(y_pred, return_counts=True)[1][0]\n",
        "    npv = true_negatives / predicted_negatives\n",
        "    return npv"
      ],
      "metadata": {
        "id": "17JI8klscF18"
      },
      "execution_count": 5,
      "outputs": []
    },
    {
      "cell_type": "code",
      "source": [
        "df = pd.read_csv(\"/content/drive/MyDrive/Machine Learning NBA /NBA-Games-Data-Analysis-and-Match-Prediction/Final Data/games_with_features.csv\", index_col=\"id\")"
      ],
      "metadata": {
        "id": "bFDPmWzJcIG5"
      },
      "execution_count": 6,
      "outputs": []
    },
    {
      "cell_type": "code",
      "source": [
        "lr = LogisticRegression(max_iter=1000)\n",
        "nb = GaussianNB()\n",
        "knn = KNeighborsClassifier()\n",
        "rf = RandomForestClassifier()\n",
        "xgb = XGBClassifier(eval_metric=\"logloss\", use_label_encoder=False)\n",
        "\n",
        "models = [lr, nb, knn, rf, xgb]"
      ],
      "metadata": {
        "id": "ngNJTILmcsc4"
      },
      "execution_count": 7,
      "outputs": []
    },
    {
      "cell_type": "code",
      "source": [
        "def train_model(model, train_data, test_data):\n",
        "    X_train = train_data.drop(\"winner\", axis=1)\n",
        "    y_train = train_data[\"winner\"]\n",
        "    X_test = test_data.drop(\"winner\", axis=1)\n",
        "    y_test = test_data[\"winner\"]                     \n",
        "\n",
        "    model = model\n",
        "    model.fit(X_train, y_train)\n",
        "    y_pred = model.predict(X_test)\n",
        "\n",
        "    print(accuracy_score(y_test, y_pred))\n",
        "    #print(cross_val_score(model, feats, target).mean())"
      ],
      "metadata": {
        "id": "9o7MpPrrc_qm"
      },
      "execution_count": 8,
      "outputs": []
    },
    {
      "cell_type": "code",
      "source": [
        "train_data = df[df[\"season\"].isin([2017])][[\"home_team_avg_score\", \"visitor_team_avg_score\", \"winner\"]]\n",
        "test_data = df[df[\"season\"].isin([2018])][[\"home_team_avg_score\", \"visitor_team_avg_score\", \"winner\"]]\n",
        "for model in models:\n",
        "    train_model(model, train_data, test_data)"
      ],
      "metadata": {
        "colab": {
          "base_uri": "https://localhost:8080/"
        },
        "id": "KGvH4f3adHTI",
        "outputId": "f1901c06-de7c-492c-cc3d-2d3f5fd2afa6"
      },
      "execution_count": 9,
      "outputs": [
        {
          "output_type": "stream",
          "name": "stdout",
          "text": [
            "0.6399694889397407\n",
            "0.6414950419527079\n",
            "0.5537757437070938\n",
            "0.532418001525553\n",
            "0.6018306636155606\n"
          ]
        }
      ]
    },
    {
      "cell_type": "markdown",
      "source": [
        "xgboost and random forest predict around 80% correctly when using data from the same season.\n",
        "unfortunately when trying to predict results of future seasons the result is horrible."
      ],
      "metadata": {
        "id": "dXrJkjANdNZ-"
      }
    },
    {
      "cell_type": "markdown",
      "source": [
        "##Using Stats Data"
      ],
      "metadata": {
        "id": "sYHPa5RidQmP"
      }
    },
    {
      "cell_type": "code",
      "source": [
        "stats = pd.read_csv(\"/content/drive/MyDrive/Machine Learning NBA /NBA-Games-Data-Analysis-and-Match-Prediction/Final Data/stats_feats.csv\",index_col=\"game.id\")\n",
        "stats"
      ],
      "metadata": {
        "colab": {
          "base_uri": "https://localhost:8080/",
          "height": 519
        },
        "id": "lY7ZQSRjdI84",
        "outputId": "0a00632e-0d5a-4ecd-9123-81527e20a7a5"
      },
      "execution_count": 10,
      "outputs": [
        {
          "output_type": "execute_result",
          "data": {
            "text/plain": [
              "          game.date  game.season  winner  home_ast  home_blk  home_dreb  \\\n",
              "game.id                                                                   \n",
              "1        2018-10-16         2018       1     23.40      5.35      36.05   \n",
              "2        2018-10-16         2018       1     31.55      7.60      34.45   \n",
              "3        2018-10-17         2018       0     21.35      5.15      35.85   \n",
              "4        2018-10-17         2018       1     23.15      3.40      33.55   \n",
              "5        2018-10-17         2018       1     22.55      4.25      33.20   \n",
              "...             ...          ...     ...       ...       ...        ...   \n",
              "857658   2022-11-28         2022       0     25.85      4.40      32.05   \n",
              "857659   2022-11-28         2022       0     24.95      4.80      34.45   \n",
              "857660   2022-11-28         2022       0     22.90      6.00      33.20   \n",
              "857661   2022-11-28         2022       1     25.35      3.95      32.25   \n",
              "857662   2022-11-28         2022       1     29.55      3.05      34.65   \n",
              "\n",
              "         home_fg3_pct  home_fg3a  home_fg3m  home_fg_pct  ...  diff_away_fgm  \\\n",
              "game.id                                                   ...                  \n",
              "1            0.283508      32.10      11.60     0.407498  ...          -1.10   \n",
              "2            0.186014      27.60      11.35     0.511330  ...           2.00   \n",
              "3            0.211261      26.70       9.45     0.415333  ...           0.90   \n",
              "4            0.239457      28.45      11.50     0.431416  ...           1.50   \n",
              "5            0.291932      25.80      10.00     0.453450  ...           5.40   \n",
              "...               ...        ...        ...          ...  ...            ...   \n",
              "857658      20.284341      33.80      12.50    32.655897  ...          -2.90   \n",
              "857659      13.977462      39.25      14.65    28.952156  ...           0.20   \n",
              "857660      24.626431      33.05      10.85    42.398149  ...           1.50   \n",
              "857661      20.856653      32.15      10.60    42.469124  ...           3.95   \n",
              "857662      33.899859      37.75      14.35    45.480293  ...           3.30   \n",
              "\n",
              "         diff_away_ft_pct  diff_away_fta  diff_away_ftm  diff_away_oreb  \\\n",
              "game.id                                                                   \n",
              "1               -0.084629          -2.80          -1.85           -2.30   \n",
              "2                0.031878          -2.45           0.15           -3.90   \n",
              "3                0.082519           3.55           2.55            0.25   \n",
              "4               -0.106143          -5.10          -4.75            0.15   \n",
              "5                0.003677          -0.10          -1.25           -0.20   \n",
              "...                   ...            ...            ...             ...   \n",
              "857658           0.107326           6.50           4.85           -2.55   \n",
              "857659         -10.664621           7.10           4.05            2.30   \n",
              "857660           2.393646          -1.20          -1.55           -1.85   \n",
              "857661           6.659708           1.55           2.35            1.15   \n",
              "857662          -0.078641          -4.10          -1.40           -1.75   \n",
              "\n",
              "         diff_away_pf  diff_away_pts  diff_away_reb  diff_away_stl  \\\n",
              "game.id                                                              \n",
              "1               -0.95          -3.30          -0.45          -0.95   \n",
              "2               -1.20           4.30          -2.25          -0.15   \n",
              "3               -4.50           5.20           4.10          -2.35   \n",
              "4               -2.80          -0.50          -1.75           0.60   \n",
              "5               -5.05          10.15           3.00           1.15   \n",
              "...               ...            ...            ...            ...   \n",
              "857658          -3.30           1.05          -2.90          -0.80   \n",
              "857659           1.70           7.35           3.10           0.35   \n",
              "857660          -0.80           0.15          -2.45           1.05   \n",
              "857661           1.45           8.35          -1.70           0.15   \n",
              "857662          -0.50           6.05           0.90          -0.85   \n",
              "\n",
              "         diff_away_turnover  \n",
              "game.id                      \n",
              "1                     -2.65  \n",
              "2                      3.15  \n",
              "3                     -2.95  \n",
              "4                     -3.30  \n",
              "5                     -1.50  \n",
              "...                     ...  \n",
              "857658                 0.60  \n",
              "857659                 1.40  \n",
              "857660                -1.80  \n",
              "857661                -0.35  \n",
              "857662                -3.55  \n",
              "\n",
              "[46673 rows x 57 columns]"
            ],
            "text/html": [
              "\n",
              "  <div id=\"df-a8d53f27-28f7-46a3-b162-08064006a3ce\">\n",
              "    <div class=\"colab-df-container\">\n",
              "      <div>\n",
              "<style scoped>\n",
              "    .dataframe tbody tr th:only-of-type {\n",
              "        vertical-align: middle;\n",
              "    }\n",
              "\n",
              "    .dataframe tbody tr th {\n",
              "        vertical-align: top;\n",
              "    }\n",
              "\n",
              "    .dataframe thead th {\n",
              "        text-align: right;\n",
              "    }\n",
              "</style>\n",
              "<table border=\"1\" class=\"dataframe\">\n",
              "  <thead>\n",
              "    <tr style=\"text-align: right;\">\n",
              "      <th></th>\n",
              "      <th>game.date</th>\n",
              "      <th>game.season</th>\n",
              "      <th>winner</th>\n",
              "      <th>home_ast</th>\n",
              "      <th>home_blk</th>\n",
              "      <th>home_dreb</th>\n",
              "      <th>home_fg3_pct</th>\n",
              "      <th>home_fg3a</th>\n",
              "      <th>home_fg3m</th>\n",
              "      <th>home_fg_pct</th>\n",
              "      <th>...</th>\n",
              "      <th>diff_away_fgm</th>\n",
              "      <th>diff_away_ft_pct</th>\n",
              "      <th>diff_away_fta</th>\n",
              "      <th>diff_away_ftm</th>\n",
              "      <th>diff_away_oreb</th>\n",
              "      <th>diff_away_pf</th>\n",
              "      <th>diff_away_pts</th>\n",
              "      <th>diff_away_reb</th>\n",
              "      <th>diff_away_stl</th>\n",
              "      <th>diff_away_turnover</th>\n",
              "    </tr>\n",
              "    <tr>\n",
              "      <th>game.id</th>\n",
              "      <th></th>\n",
              "      <th></th>\n",
              "      <th></th>\n",
              "      <th></th>\n",
              "      <th></th>\n",
              "      <th></th>\n",
              "      <th></th>\n",
              "      <th></th>\n",
              "      <th></th>\n",
              "      <th></th>\n",
              "      <th></th>\n",
              "      <th></th>\n",
              "      <th></th>\n",
              "      <th></th>\n",
              "      <th></th>\n",
              "      <th></th>\n",
              "      <th></th>\n",
              "      <th></th>\n",
              "      <th></th>\n",
              "      <th></th>\n",
              "      <th></th>\n",
              "    </tr>\n",
              "  </thead>\n",
              "  <tbody>\n",
              "    <tr>\n",
              "      <th>1</th>\n",
              "      <td>2018-10-16</td>\n",
              "      <td>2018</td>\n",
              "      <td>1</td>\n",
              "      <td>23.40</td>\n",
              "      <td>5.35</td>\n",
              "      <td>36.05</td>\n",
              "      <td>0.283508</td>\n",
              "      <td>32.10</td>\n",
              "      <td>11.60</td>\n",
              "      <td>0.407498</td>\n",
              "      <td>...</td>\n",
              "      <td>-1.10</td>\n",
              "      <td>-0.084629</td>\n",
              "      <td>-2.80</td>\n",
              "      <td>-1.85</td>\n",
              "      <td>-2.30</td>\n",
              "      <td>-0.95</td>\n",
              "      <td>-3.30</td>\n",
              "      <td>-0.45</td>\n",
              "      <td>-0.95</td>\n",
              "      <td>-2.65</td>\n",
              "    </tr>\n",
              "    <tr>\n",
              "      <th>2</th>\n",
              "      <td>2018-10-16</td>\n",
              "      <td>2018</td>\n",
              "      <td>1</td>\n",
              "      <td>31.55</td>\n",
              "      <td>7.60</td>\n",
              "      <td>34.45</td>\n",
              "      <td>0.186014</td>\n",
              "      <td>27.60</td>\n",
              "      <td>11.35</td>\n",
              "      <td>0.511330</td>\n",
              "      <td>...</td>\n",
              "      <td>2.00</td>\n",
              "      <td>0.031878</td>\n",
              "      <td>-2.45</td>\n",
              "      <td>0.15</td>\n",
              "      <td>-3.90</td>\n",
              "      <td>-1.20</td>\n",
              "      <td>4.30</td>\n",
              "      <td>-2.25</td>\n",
              "      <td>-0.15</td>\n",
              "      <td>3.15</td>\n",
              "    </tr>\n",
              "    <tr>\n",
              "      <th>3</th>\n",
              "      <td>2018-10-17</td>\n",
              "      <td>2018</td>\n",
              "      <td>0</td>\n",
              "      <td>21.35</td>\n",
              "      <td>5.15</td>\n",
              "      <td>35.85</td>\n",
              "      <td>0.211261</td>\n",
              "      <td>26.70</td>\n",
              "      <td>9.45</td>\n",
              "      <td>0.415333</td>\n",
              "      <td>...</td>\n",
              "      <td>0.90</td>\n",
              "      <td>0.082519</td>\n",
              "      <td>3.55</td>\n",
              "      <td>2.55</td>\n",
              "      <td>0.25</td>\n",
              "      <td>-4.50</td>\n",
              "      <td>5.20</td>\n",
              "      <td>4.10</td>\n",
              "      <td>-2.35</td>\n",
              "      <td>-2.95</td>\n",
              "    </tr>\n",
              "    <tr>\n",
              "      <th>4</th>\n",
              "      <td>2018-10-17</td>\n",
              "      <td>2018</td>\n",
              "      <td>1</td>\n",
              "      <td>23.15</td>\n",
              "      <td>3.40</td>\n",
              "      <td>33.55</td>\n",
              "      <td>0.239457</td>\n",
              "      <td>28.45</td>\n",
              "      <td>11.50</td>\n",
              "      <td>0.431416</td>\n",
              "      <td>...</td>\n",
              "      <td>1.50</td>\n",
              "      <td>-0.106143</td>\n",
              "      <td>-5.10</td>\n",
              "      <td>-4.75</td>\n",
              "      <td>0.15</td>\n",
              "      <td>-2.80</td>\n",
              "      <td>-0.50</td>\n",
              "      <td>-1.75</td>\n",
              "      <td>0.60</td>\n",
              "      <td>-3.30</td>\n",
              "    </tr>\n",
              "    <tr>\n",
              "      <th>5</th>\n",
              "      <td>2018-10-17</td>\n",
              "      <td>2018</td>\n",
              "      <td>1</td>\n",
              "      <td>22.55</td>\n",
              "      <td>4.25</td>\n",
              "      <td>33.20</td>\n",
              "      <td>0.291932</td>\n",
              "      <td>25.80</td>\n",
              "      <td>10.00</td>\n",
              "      <td>0.453450</td>\n",
              "      <td>...</td>\n",
              "      <td>5.40</td>\n",
              "      <td>0.003677</td>\n",
              "      <td>-0.10</td>\n",
              "      <td>-1.25</td>\n",
              "      <td>-0.20</td>\n",
              "      <td>-5.05</td>\n",
              "      <td>10.15</td>\n",
              "      <td>3.00</td>\n",
              "      <td>1.15</td>\n",
              "      <td>-1.50</td>\n",
              "    </tr>\n",
              "    <tr>\n",
              "      <th>...</th>\n",
              "      <td>...</td>\n",
              "      <td>...</td>\n",
              "      <td>...</td>\n",
              "      <td>...</td>\n",
              "      <td>...</td>\n",
              "      <td>...</td>\n",
              "      <td>...</td>\n",
              "      <td>...</td>\n",
              "      <td>...</td>\n",
              "      <td>...</td>\n",
              "      <td>...</td>\n",
              "      <td>...</td>\n",
              "      <td>...</td>\n",
              "      <td>...</td>\n",
              "      <td>...</td>\n",
              "      <td>...</td>\n",
              "      <td>...</td>\n",
              "      <td>...</td>\n",
              "      <td>...</td>\n",
              "      <td>...</td>\n",
              "      <td>...</td>\n",
              "    </tr>\n",
              "    <tr>\n",
              "      <th>857658</th>\n",
              "      <td>2022-11-28</td>\n",
              "      <td>2022</td>\n",
              "      <td>0</td>\n",
              "      <td>25.85</td>\n",
              "      <td>4.40</td>\n",
              "      <td>32.05</td>\n",
              "      <td>20.284341</td>\n",
              "      <td>33.80</td>\n",
              "      <td>12.50</td>\n",
              "      <td>32.655897</td>\n",
              "      <td>...</td>\n",
              "      <td>-2.90</td>\n",
              "      <td>0.107326</td>\n",
              "      <td>6.50</td>\n",
              "      <td>4.85</td>\n",
              "      <td>-2.55</td>\n",
              "      <td>-3.30</td>\n",
              "      <td>1.05</td>\n",
              "      <td>-2.90</td>\n",
              "      <td>-0.80</td>\n",
              "      <td>0.60</td>\n",
              "    </tr>\n",
              "    <tr>\n",
              "      <th>857659</th>\n",
              "      <td>2022-11-28</td>\n",
              "      <td>2022</td>\n",
              "      <td>0</td>\n",
              "      <td>24.95</td>\n",
              "      <td>4.80</td>\n",
              "      <td>34.45</td>\n",
              "      <td>13.977462</td>\n",
              "      <td>39.25</td>\n",
              "      <td>14.65</td>\n",
              "      <td>28.952156</td>\n",
              "      <td>...</td>\n",
              "      <td>0.20</td>\n",
              "      <td>-10.664621</td>\n",
              "      <td>7.10</td>\n",
              "      <td>4.05</td>\n",
              "      <td>2.30</td>\n",
              "      <td>1.70</td>\n",
              "      <td>7.35</td>\n",
              "      <td>3.10</td>\n",
              "      <td>0.35</td>\n",
              "      <td>1.40</td>\n",
              "    </tr>\n",
              "    <tr>\n",
              "      <th>857660</th>\n",
              "      <td>2022-11-28</td>\n",
              "      <td>2022</td>\n",
              "      <td>0</td>\n",
              "      <td>22.90</td>\n",
              "      <td>6.00</td>\n",
              "      <td>33.20</td>\n",
              "      <td>24.626431</td>\n",
              "      <td>33.05</td>\n",
              "      <td>10.85</td>\n",
              "      <td>42.398149</td>\n",
              "      <td>...</td>\n",
              "      <td>1.50</td>\n",
              "      <td>2.393646</td>\n",
              "      <td>-1.20</td>\n",
              "      <td>-1.55</td>\n",
              "      <td>-1.85</td>\n",
              "      <td>-0.80</td>\n",
              "      <td>0.15</td>\n",
              "      <td>-2.45</td>\n",
              "      <td>1.05</td>\n",
              "      <td>-1.80</td>\n",
              "    </tr>\n",
              "    <tr>\n",
              "      <th>857661</th>\n",
              "      <td>2022-11-28</td>\n",
              "      <td>2022</td>\n",
              "      <td>1</td>\n",
              "      <td>25.35</td>\n",
              "      <td>3.95</td>\n",
              "      <td>32.25</td>\n",
              "      <td>20.856653</td>\n",
              "      <td>32.15</td>\n",
              "      <td>10.60</td>\n",
              "      <td>42.469124</td>\n",
              "      <td>...</td>\n",
              "      <td>3.95</td>\n",
              "      <td>6.659708</td>\n",
              "      <td>1.55</td>\n",
              "      <td>2.35</td>\n",
              "      <td>1.15</td>\n",
              "      <td>1.45</td>\n",
              "      <td>8.35</td>\n",
              "      <td>-1.70</td>\n",
              "      <td>0.15</td>\n",
              "      <td>-0.35</td>\n",
              "    </tr>\n",
              "    <tr>\n",
              "      <th>857662</th>\n",
              "      <td>2022-11-28</td>\n",
              "      <td>2022</td>\n",
              "      <td>1</td>\n",
              "      <td>29.55</td>\n",
              "      <td>3.05</td>\n",
              "      <td>34.65</td>\n",
              "      <td>33.899859</td>\n",
              "      <td>37.75</td>\n",
              "      <td>14.35</td>\n",
              "      <td>45.480293</td>\n",
              "      <td>...</td>\n",
              "      <td>3.30</td>\n",
              "      <td>-0.078641</td>\n",
              "      <td>-4.10</td>\n",
              "      <td>-1.40</td>\n",
              "      <td>-1.75</td>\n",
              "      <td>-0.50</td>\n",
              "      <td>6.05</td>\n",
              "      <td>0.90</td>\n",
              "      <td>-0.85</td>\n",
              "      <td>-3.55</td>\n",
              "    </tr>\n",
              "  </tbody>\n",
              "</table>\n",
              "<p>46673 rows × 57 columns</p>\n",
              "</div>\n",
              "      <button class=\"colab-df-convert\" onclick=\"convertToInteractive('df-a8d53f27-28f7-46a3-b162-08064006a3ce')\"\n",
              "              title=\"Convert this dataframe to an interactive table.\"\n",
              "              style=\"display:none;\">\n",
              "        \n",
              "  <svg xmlns=\"http://www.w3.org/2000/svg\" height=\"24px\"viewBox=\"0 0 24 24\"\n",
              "       width=\"24px\">\n",
              "    <path d=\"M0 0h24v24H0V0z\" fill=\"none\"/>\n",
              "    <path d=\"M18.56 5.44l.94 2.06.94-2.06 2.06-.94-2.06-.94-.94-2.06-.94 2.06-2.06.94zm-11 1L8.5 8.5l.94-2.06 2.06-.94-2.06-.94L8.5 2.5l-.94 2.06-2.06.94zm10 10l.94 2.06.94-2.06 2.06-.94-2.06-.94-.94-2.06-.94 2.06-2.06.94z\"/><path d=\"M17.41 7.96l-1.37-1.37c-.4-.4-.92-.59-1.43-.59-.52 0-1.04.2-1.43.59L10.3 9.45l-7.72 7.72c-.78.78-.78 2.05 0 2.83L4 21.41c.39.39.9.59 1.41.59.51 0 1.02-.2 1.41-.59l7.78-7.78 2.81-2.81c.8-.78.8-2.07 0-2.86zM5.41 20L4 18.59l7.72-7.72 1.47 1.35L5.41 20z\"/>\n",
              "  </svg>\n",
              "      </button>\n",
              "      \n",
              "  <style>\n",
              "    .colab-df-container {\n",
              "      display:flex;\n",
              "      flex-wrap:wrap;\n",
              "      gap: 12px;\n",
              "    }\n",
              "\n",
              "    .colab-df-convert {\n",
              "      background-color: #E8F0FE;\n",
              "      border: none;\n",
              "      border-radius: 50%;\n",
              "      cursor: pointer;\n",
              "      display: none;\n",
              "      fill: #1967D2;\n",
              "      height: 32px;\n",
              "      padding: 0 0 0 0;\n",
              "      width: 32px;\n",
              "    }\n",
              "\n",
              "    .colab-df-convert:hover {\n",
              "      background-color: #E2EBFA;\n",
              "      box-shadow: 0px 1px 2px rgba(60, 64, 67, 0.3), 0px 1px 3px 1px rgba(60, 64, 67, 0.15);\n",
              "      fill: #174EA6;\n",
              "    }\n",
              "\n",
              "    [theme=dark] .colab-df-convert {\n",
              "      background-color: #3B4455;\n",
              "      fill: #D2E3FC;\n",
              "    }\n",
              "\n",
              "    [theme=dark] .colab-df-convert:hover {\n",
              "      background-color: #434B5C;\n",
              "      box-shadow: 0px 1px 3px 1px rgba(0, 0, 0, 0.15);\n",
              "      filter: drop-shadow(0px 1px 2px rgba(0, 0, 0, 0.3));\n",
              "      fill: #FFFFFF;\n",
              "    }\n",
              "  </style>\n",
              "\n",
              "      <script>\n",
              "        const buttonEl =\n",
              "          document.querySelector('#df-a8d53f27-28f7-46a3-b162-08064006a3ce button.colab-df-convert');\n",
              "        buttonEl.style.display =\n",
              "          google.colab.kernel.accessAllowed ? 'block' : 'none';\n",
              "\n",
              "        async function convertToInteractive(key) {\n",
              "          const element = document.querySelector('#df-a8d53f27-28f7-46a3-b162-08064006a3ce');\n",
              "          const dataTable =\n",
              "            await google.colab.kernel.invokeFunction('convertToInteractive',\n",
              "                                                     [key], {});\n",
              "          if (!dataTable) return;\n",
              "\n",
              "          const docLinkHtml = 'Like what you see? Visit the ' +\n",
              "            '<a target=\"_blank\" href=https://colab.research.google.com/notebooks/data_table.ipynb>data table notebook</a>'\n",
              "            + ' to learn more about interactive tables.';\n",
              "          element.innerHTML = '';\n",
              "          dataTable['output_type'] = 'display_data';\n",
              "          await google.colab.output.renderOutput(dataTable, element);\n",
              "          const docLink = document.createElement('div');\n",
              "          docLink.innerHTML = docLinkHtml;\n",
              "          element.appendChild(docLink);\n",
              "        }\n",
              "      </script>\n",
              "    </div>\n",
              "  </div>\n",
              "  "
            ]
          },
          "metadata": {},
          "execution_count": 10
        }
      ]
    },
    {
      "cell_type": "code",
      "source": [
        "plt.subplots(figsize=(20,20))\n",
        "sns.heatmap(stats.corr(), square=True, cmap=\"RdBu_r\")\n",
        "plt.savefig(\"/content/drive/MyDrive/Machine Learning NBA /NBA-Games-Data-Analysis-and-Match-Prediction/Figures/heatmap.png\")\n",
        "plt.show()"
      ],
      "metadata": {
        "colab": {
          "base_uri": "https://localhost:8080/",
          "height": 843
        },
        "id": "P8HIN9Y8OEq0",
        "outputId": "2caa417e-c626-4ad7-ac37-67bfccef6821"
      },
      "execution_count": 11,
      "outputs": [
        {
          "output_type": "display_data",
          "data": {
            "text/plain": [
              "<Figure size 1440x1440 with 2 Axes>"
            ],
            "image/png": "[encoded data removed]"
          },
          "metadata": {
            "needs_background": "light"
          }
        }
      ]
    },
    {
      "cell_type": "markdown",
      "source": [
        "##Check for null values"
      ],
      "metadata": {
        "id": "TRuykPmmy4eg"
      }
    },
    {
      "cell_type": "code",
      "source": [
        "stats.isna().sum()"
      ],
      "metadata": {
        "colab": {
          "base_uri": "https://localhost:8080/"
        },
        "id": "Sx3a3Sn5PHbC",
        "outputId": "5a11c5c5-02ed-4ebc-a194-1d55417f8616"
      },
      "execution_count": 12,
      "outputs": [
        {
          "output_type": "execute_result",
          "data": {
            "text/plain": [
              "game.date             0\n",
              "game.season           0\n",
              "winner                0\n",
              "home_ast              0\n",
              "home_blk              0\n",
              "home_dreb             0\n",
              "home_fg3_pct          0\n",
              "home_fg3a             0\n",
              "home_fg3m             0\n",
              "home_fg_pct           0\n",
              "home_fga              0\n",
              "home_fgm              0\n",
              "home_ft_pct           0\n",
              "home_fta              0\n",
              "home_ftm              0\n",
              "home_oreb             0\n",
              "home_pf               0\n",
              "home_pts              0\n",
              "home_reb              0\n",
              "home_stl              0\n",
              "home_turnover         0\n",
              "away_ast              0\n",
              "away_blk              0\n",
              "away_dreb             0\n",
              "away_fg3_pct          0\n",
              "away_fg3a             0\n",
              "away_fg3m             0\n",
              "away_fg_pct           0\n",
              "away_fga              0\n",
              "away_fgm              0\n",
              "away_ft_pct           0\n",
              "away_fta              0\n",
              "away_ftm              0\n",
              "away_oreb             0\n",
              "away_pf               0\n",
              "away_pts              0\n",
              "away_reb              0\n",
              "away_stl              0\n",
              "away_turnover         0\n",
              "diff_away_ast         0\n",
              "diff_away_blk         0\n",
              "diff_away_dreb        0\n",
              "diff_away_fg3_pct     0\n",
              "diff_away_fg3a        0\n",
              "diff_away_fg3m        0\n",
              "diff_away_fg_pct      0\n",
              "diff_away_fga         0\n",
              "diff_away_fgm         0\n",
              "diff_away_ft_pct      0\n",
              "diff_away_fta         0\n",
              "diff_away_ftm         0\n",
              "diff_away_oreb        0\n",
              "diff_away_pf          0\n",
              "diff_away_pts         0\n",
              "diff_away_reb         0\n",
              "diff_away_stl         0\n",
              "diff_away_turnover    0\n",
              "dtype: int64"
            ]
          },
          "metadata": {},
          "execution_count": 12
        }
      ]
    },
    {
      "cell_type": "code",
      "source": [
        "X = stats.drop([\"winner\", \"game.date\", \"game.season\"], axis=1)\n",
        "y = stats[\"winner\"]\n",
        "X.shape"
      ],
      "metadata": {
        "id": "eJHJ4H4RdsR4"
      },
      "execution_count": null,
      "outputs": []
    },
    {
      "cell_type": "markdown",
      "source": [
        "##Dividing the Dataset into 85% training and 15% test set"
      ],
      "metadata": {
        "id": "YEBwFEa4QUwr"
      }
    },
    {
      "cell_type": "code",
      "source": [
        "from sklearn.model_selection import train_test_split\n",
        "d = {}\n",
        "X_train, X_test, y_train, y_test = train_test_split(X, y, test_size = 0.20, random_state = 69)\n",
        "\n",
        "print(\"Shape of x_train :\", X_train.shape)\n",
        "print(\"Shape of y_train :\", y_train.shape)\n",
        "print(\"Shape of x_test :\", X_test.shape)\n",
        "print(\"Shape of y_test :\", y_test.shape)\n",
        "\n"
      ],
      "metadata": {
        "colab": {
          "base_uri": "https://localhost:8080/"
        },
        "id": "D86r_WZnQMFF",
        "outputId": "1a5038aa-da51-4b58-d272-20e9552e5d9f"
      },
      "execution_count": 127,
      "outputs": [
        {
          "output_type": "stream",
          "name": "stdout",
          "text": [
            "Shape of x_train : (37338, 54)\n",
            "Shape of y_train : (37338,)\n",
            "Shape of x_test : (9335, 54)\n",
            "Shape of y_test : (9335,)\n"
          ]
        }
      ]
    },
    {
      "cell_type": "markdown",
      "source": [
        "##Using All Stats in XGBoost"
      ],
      "metadata": {
        "id": "wUN-INlgeWCA"
      }
    },
    {
      "cell_type": "code",
      "source": [
        "from sklearn.preprocessing import StandardScaler, LabelBinarizer, LabelEncoder\n",
        "import xgboost as xgb\n",
        "from sklearn.metrics import accuracy_score, f1_score\n",
        "# import packages for hyperparameters tuning\n",
        "from sklearn.model_selection import GridSearchCV,RandomizedSearchCV, KFold\n",
        "\n",
        "from sklearn.metrics import confusion_matrix, classification_report\n",
        "\n",
        "import warnings\n",
        "warnings.filterwarnings('ignore')\n"
      ],
      "metadata": {
        "id": "R7m9x5clenEF"
      },
      "execution_count": 128,
      "outputs": []
    },
    {
      "cell_type": "code",
      "source": [
        "sc = StandardScaler()\n",
        "X_train = sc.fit_transform(X_train)\n",
        "X_test = sc.fit_transform(X_test)"
      ],
      "metadata": {
        "id": "4WMbJs8WcI86"
      },
      "execution_count": 119,
      "outputs": []
    },
    {
      "cell_type": "code",
      "source": [
        "%%time\n",
        "\n",
        "params = {\n",
        "    'n_estimators': [100, 200, 500,1000, 2000, 5000],\n",
        "    'learning_rate': [0.001, 0.01,0.05,0.1, 0,2 , 0.8],\n",
        "    'booster': ['gbtree', 'gblinear'],\n",
        "    'gamma': [0, 0.5, 1],\n",
        "    'reg_alpha': [0, 0.5, 1],\n",
        "    'reg_lambda': [0.5, 1, 5],\n",
        "    'base_score': [0.2, 0.5, 1],\n",
        "\n",
        "  \n",
        "}\n",
        "##Tuning Hyperparamtere\n",
        "gs2 = RandomizedSearchCV(XGBClassifier(objective= 'binary:logistic'), params, n_jobs=-1, cv=KFold(n_splits=5), scoring='average_precision')\n",
        "gs2.fit(X_train, y_train)"
      ],
      "metadata": {
        "colab": {
          "base_uri": "https://localhost:8080/"
        },
        "id": "m9mnFW0zksHv",
        "outputId": "88570ce2-54cf-46b0-d358-19f01d9e9f2a"
      },
      "execution_count": 129,
      "outputs": [
        {
          "output_type": "stream",
          "name": "stdout",
          "text": [
            "CPU times: user 24.6 s, sys: 1.39 s, total: 26 s\n",
            "Wall time: 23min 32s\n"
          ]
        },
        {
          "output_type": "execute_result",
          "data": {
            "text/plain": [
              "RandomizedSearchCV(cv=KFold(n_splits=5, random_state=None, shuffle=False),\n",
              "                   estimator=XGBClassifier(), n_jobs=-1,\n",
              "                   param_distributions={'base_score': [0.2, 0.5, 1],\n",
              "                                        'booster': ['gbtree', 'gblinear'],\n",
              "                                        'gamma': [0, 0.5, 1],\n",
              "                                        'learning_rate': [0.001, 0.01, 0.05,\n",
              "                                                          0.1, 0, 2, 0.8],\n",
              "                                        'n_estimators': [100, 200, 500, 1000,\n",
              "                                                         2000, 5000],\n",
              "                                        'reg_alpha': [0, 0.5, 1],\n",
              "                                        'reg_lambda': [0.5, 1, 5]},\n",
              "                   scoring='average_precision')"
            ]
          },
          "metadata": {},
          "execution_count": 129
        }
      ]
    },
    {
      "cell_type": "code",
      "source": [
        "print('Best score:', gs2.best_score_)\n",
        "print('Best score:', gs2.best_params_)"
      ],
      "metadata": {
        "colab": {
          "base_uri": "https://localhost:8080/"
        },
        "id": "2_IxXTDIU_eF",
        "outputId": "9cf338da-22e0-4cf9-b851-26d96aace54e"
      },
      "execution_count": 137,
      "outputs": [
        {
          "output_type": "stream",
          "name": "stdout",
          "text": [
            "Best score: 0.733066849948644\n",
            "Best score: {'reg_lambda': 1, 'reg_alpha': 1, 'n_estimators': 200, 'learning_rate': 0.1, 'gamma': 1, 'booster': 'gbtree', 'base_score': 0.2}\n"
          ]
        }
      ]
    },
    {
      "cell_type": "code",
      "source": [
        "def print_scores(y_pred) :\n",
        "  \t\n",
        "  print('Precision: %.3f' % precision_score(y_test, y_pred))\n",
        "  print('Recall: %.3f' % recall_score(y_test, y_pred))\n",
        "  print('Accuracy: %.3f' % accuracy_score(y_test, y_pred))\n",
        "  print('F1 Score: %.3f' % f1_score(y_test, y_pred))\n"
      ],
      "metadata": {
        "id": "KZJqgn-9veuv"
      },
      "execution_count": 131,
      "outputs": []
    },
    {
      "cell_type": "code",
      "source": [
        "prediction = gs2.predict(X_test)\n",
        "prediction"
      ],
      "metadata": {
        "colab": {
          "base_uri": "https://localhost:8080/"
        },
        "id": "biAA2xtevlDb",
        "outputId": "47ae0ce4-e9b7-4e92-8482-2454336fc761"
      },
      "execution_count": 132,
      "outputs": [
        {
          "output_type": "execute_result",
          "data": {
            "text/plain": [
              "array([1, 1, 0, ..., 1, 1, 0])"
            ]
          },
          "metadata": {},
          "execution_count": 132
        }
      ]
    },
    {
      "cell_type": "code",
      "source": [
        "print_scores(prediction)"
      ],
      "metadata": {
        "colab": {
          "base_uri": "https://localhost:8080/"
        },
        "id": "oNxnZs-rwBDD",
        "outputId": "0f9c6485-c0e2-42ea-b4b4-ef89870d1958"
      },
      "execution_count": 133,
      "outputs": [
        {
          "output_type": "stream",
          "name": "stdout",
          "text": [
            "Precision: 0.664\n",
            "Recall: 0.850\n",
            "Accuracy: 0.645\n",
            "F1 Score: 0.746\n"
          ]
        }
      ]
    },
    {
      "cell_type": "markdown",
      "source": [
        "##Feature Importance"
      ],
      "metadata": {
        "id": "K7NFE_SKydPz"
      }
    },
    {
      "cell_type": "code",
      "source": [
        "from sklearn.ensemble import  ExtraTreesClassifier"
      ],
      "metadata": {
        "id": "5_YLg9PpwXRz"
      },
      "execution_count": 134,
      "outputs": []
    },
    {
      "cell_type": "code",
      "source": [
        "features = X.columns.values.tolist()\n",
        "features"
      ],
      "metadata": {
        "colab": {
          "base_uri": "https://localhost:8080/"
        },
        "id": "EzVzp-AOxZ-o",
        "outputId": "6c997fd7-0c18-4392-cd0b-4431633dffd8"
      },
      "execution_count": 135,
      "outputs": [
        {
          "output_type": "execute_result",
          "data": {
            "text/plain": [
              "['home_ast',\n",
              " 'home_blk',\n",
              " 'home_dreb',\n",
              " 'home_fg3_pct',\n",
              " 'home_fg3a',\n",
              " 'home_fg3m',\n",
              " 'home_fg_pct',\n",
              " 'home_fga',\n",
              " 'home_fgm',\n",
              " 'home_ft_pct',\n",
              " 'home_fta',\n",
              " 'home_ftm',\n",
              " 'home_oreb',\n",
              " 'home_pf',\n",
              " 'home_pts',\n",
              " 'home_reb',\n",
              " 'home_stl',\n",
              " 'home_turnover',\n",
              " 'away_ast',\n",
              " 'away_blk',\n",
              " 'away_dreb',\n",
              " 'away_fg3_pct',\n",
              " 'away_fg3a',\n",
              " 'away_fg3m',\n",
              " 'away_fg_pct',\n",
              " 'away_fga',\n",
              " 'away_fgm',\n",
              " 'away_ft_pct',\n",
              " 'away_fta',\n",
              " 'away_ftm',\n",
              " 'away_oreb',\n",
              " 'away_pf',\n",
              " 'away_pts',\n",
              " 'away_reb',\n",
              " 'away_stl',\n",
              " 'away_turnover',\n",
              " 'diff_away_ast',\n",
              " 'diff_away_blk',\n",
              " 'diff_away_dreb',\n",
              " 'diff_away_fg3_pct',\n",
              " 'diff_away_fg3a',\n",
              " 'diff_away_fg3m',\n",
              " 'diff_away_fg_pct',\n",
              " 'diff_away_fga',\n",
              " 'diff_away_fgm',\n",
              " 'diff_away_ft_pct',\n",
              " 'diff_away_fta',\n",
              " 'diff_away_ftm',\n",
              " 'diff_away_oreb',\n",
              " 'diff_away_pf',\n",
              " 'diff_away_pts',\n",
              " 'diff_away_reb',\n",
              " 'diff_away_stl',\n",
              " 'diff_away_turnover']"
            ]
          },
          "metadata": {},
          "execution_count": 135
        }
      ]
    },
    {
      "cell_type": "code",
      "source": [
        "forest = ExtraTreesClassifier(n_estimators=250,\n",
        "                              random_state=0)\n",
        "\n",
        "forest.fit(X_train, y_train)\n",
        "importances = forest.feature_importances_\n",
        "std = np.std([tree.feature_importances_ for tree in forest.estimators_],\n",
        "             axis=0)\n",
        "indices = np.argsort(importances)[::-1] #reordering features by importance\n",
        "sorted_importances = [importances[index] for index in indices]\n",
        "# Print the feature ranking\n",
        "print(\"Feature ranking:\")\n",
        "\n",
        "\n",
        "# Plot the feature importances of the forest\n",
        "plt.figure(figsize=(20,10))\n",
        "plt.title(\"Feature importances\", fontdict={'weight' : 'bold', 'size' : '14'})\n",
        "plt.bar(range(X_train.shape[1]), importances[indices],\n",
        "       color=\"green\", yerr=std[indices], align=\"center\")\n",
        "plt.xticks(range(X_train.shape[1]), features)\n",
        "plt.xticks(rotation=90)\n",
        "plt.xlim([-1,X_train.shape[1]])\n",
        "\n",
        "plt.savefig('/content/drive/MyDrive/Machine Learning NBA /NBA-Games-Data-Analysis-and-Match-Prediction/Figures/Feature Importances.png')\n",
        "plt.show()"
      ],
      "metadata": {
        "colab": {
          "base_uri": "https://localhost:8080/",
          "height": 532
        },
        "id": "hBePeAuvwOxN",
        "outputId": "877a39ca-32dc-4b81-bd0a-81ed7efb2039"
      },
      "execution_count": 136,
      "outputs": [
        {
          "output_type": "stream",
          "name": "stdout",
          "text": [
            "Feature ranking:\n"
          ]
        },
        {
          "output_type": "display_data",
          "data": {
            "text/plain": [
              "<Figure size 1440x720 with 1 Axes>"
            ],
            "image/png": "[encoded data removed]"
          },
          "metadata": {
            "needs_background": "light"
          }
        }
      ]
    },
    {
      "cell_type": "code",
      "source": [
        "cm = confusion_matrix(prediction, y_test)\n",
        "ax = plt.figure(figsize=(12,8))\n",
        "path = '/content/drive/MyDrive/Machine Learning NBA /NBA-Games-Data-Analysis-and-Match-Prediction/Figures/cm.png'\n",
        "group_names = ['True Neg','False Pos','False Neg','True Pos']\n",
        "group_counts = ['{0:0.0f}'.format(value) for value in\n",
        "                cm.flatten()]\n",
        "group_percentages = ['{0:.2%}'.format(value) for value in\n",
        "                    cm.flatten()/np.sum(cm)]\n",
        "\n",
        "labels = [f\"{v1}\\n{v2}\\n{v3}\" for v1, v2, v3 in\n",
        "          zip(group_names,group_counts,group_percentages)]\n",
        "labels = np.asarray(labels).reshape(2,2)\n",
        "ax = sns.heatmap(cm ,annot = labels, fmt = '')\n",
        "ax.set_title(\"Confusion Matrix\", fontdict = {'weight' : 'bold', 'size' : '16'})\n",
        "# classification report\n",
        "ax.set_xlabel('Predicted labels', fontdict = {'weight' : 'bold', 'size' : '12'})\n",
        "ax.set_ylabel('True labels', fontdict = {'weight' : 'bold', 'size' : '12'}); \n",
        "ax.xaxis.set_ticklabels(['Away Win', 'Home Win']); ax.yaxis.set_ticklabels(['Away Win', 'Home WIn']);\n",
        "ax.figure.savefig(path)\n",
        "cr = classification_report(prediction, y_test)\n",
        "print(cr)"
      ],
      "metadata": {
        "colab": {
          "base_uri": "https://localhost:8080/",
          "height": 674
        },
        "id": "yVtX0h8r-ci9",
        "outputId": "6e480c55-fc57-4559-f362-29f4cef5eaea"
      },
      "execution_count": 149,
      "outputs": [
        {
          "output_type": "stream",
          "name": "stdout",
          "text": [
            "              precision    recall  f1-score   support\n",
            "\n",
            "           0       0.32      0.58      0.41      2030\n",
            "           1       0.85      0.66      0.75      7305\n",
            "\n",
            "    accuracy                           0.65      9335\n",
            "   macro avg       0.59      0.62      0.58      9335\n",
            "weighted avg       0.74      0.65      0.67      9335\n",
            "\n"
          ]
        },
        {
          "output_type": "display_data",
          "data": {
            "text/plain": [
              "<Figure size 864x576 with 2 Axes>"
            ],
            "image/png": "[encoded data removed]"
          },
          "metadata": {
            "needs_background": "light"
          }
        }
      ]
    },
    {
      "cell_type": "code",
      "source": [
        "import pickle"
      ],
      "metadata": {
        "id": "4Yj1C-q0VchY"
      },
      "execution_count": 150,
      "outputs": []
    },
    {
      "cell_type": "code",
      "source": [
        "NBA_results_predictor = gs2.fit(X, y)\n",
        "\n",
        "pickle.dump(NBA_results_predictor, open(\"/content/drive/MyDrive/Machine Learning NBA /NBA-Games-Data-Analysis-and-Match-Prediction/Models/model.sav\", \"wb\"))"
      ],
      "metadata": {
        "id": "dnH98AB7LRvI"
      },
      "execution_count": 151,
      "outputs": []
    }
  ]
}